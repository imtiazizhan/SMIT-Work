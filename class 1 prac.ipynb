{
 "cells": [
  {
   "cell_type": "code",
   "execution_count": 1,
   "id": "3f377120-fe52-48f7-9ebd-828d32739f3a",
   "metadata": {},
   "outputs": [
    {
     "data": {
      "text/plain": [
       "10.0"
      ]
     },
     "execution_count": 1,
     "metadata": {},
     "output_type": "execute_result"
    }
   ],
   "source": [
    "20/2 #divide"
   ]
  },
  {
   "cell_type": "code",
   "execution_count": 9,
   "id": "9991c4fb-2318-4956-be45-bba74b7b9330",
   "metadata": {},
   "outputs": [
    {
     "data": {
      "text/plain": [
       "45"
      ]
     },
     "execution_count": 9,
     "metadata": {},
     "output_type": "execute_result"
    }
   ],
   "source": [
    "15*3 #multiply"
   ]
  },
  {
   "cell_type": "code",
   "execution_count": 8,
   "id": "a10be84e-6692-4bba-b324-23db657854c5",
   "metadata": {},
   "outputs": [
    {
     "data": {
      "text/plain": [
       "9"
      ]
     },
     "execution_count": 8,
     "metadata": {},
     "output_type": "execute_result"
    }
   ],
   "source": [
    "18-9 #sub"
   ]
  },
  {
   "cell_type": "code",
   "execution_count": 7,
   "id": "f2ed5e99-dded-4fe7-8b97-96ef1cd6d459",
   "metadata": {},
   "outputs": [
    {
     "data": {
      "text/plain": [
       "324"
      ]
     },
     "execution_count": 7,
     "metadata": {},
     "output_type": "execute_result"
    }
   ],
   "source": [
    "18**2 #power"
   ]
  },
  {
   "cell_type": "code",
   "execution_count": 15,
   "id": "fb7495cc-1353-4f88-a7a0-40f6adb2f5cd",
   "metadata": {},
   "outputs": [
    {
     "name": "stdout",
     "output_type": "stream",
     "text": [
      "37\n"
     ]
    }
   ],
   "source": [
    "num1 = 18\n",
    "num2 = 19\n",
    "result = num1 + num2\n",
    "print(result)"
   ]
  },
  {
   "cell_type": "code",
   "execution_count": 16,
   "id": "ce624826-bcda-4b80-a556-a2c63d91c363",
   "metadata": {},
   "outputs": [
    {
     "name": "stdout",
     "output_type": "stream",
     "text": [
      "48\n"
     ]
    }
   ],
   "source": [
    "num1 = 19\n",
    "num2 = 15\n",
    "num3 = 14\n",
    "result = num1 + num2 + num3\n",
    "print(result)"
   ]
  },
  {
   "cell_type": "code",
   "execution_count": 18,
   "id": "e8b59432-cd89-4047-a078-cd7c8475e893",
   "metadata": {},
   "outputs": [
    {
     "name": "stdout",
     "output_type": "stream",
     "text": [
      "20.357142857142858\n"
     ]
    }
   ],
   "source": [
    "num1 = 19\n",
    "num2 = 15\n",
    "num3 = 14\n",
    "result = num1 * num2 / num3\n",
    "print(result)"
   ]
  },
  {
   "cell_type": "code",
   "execution_count": 19,
   "id": "97bba4f5-c3bb-41a7-a49f-15a0a4e34fcc",
   "metadata": {},
   "outputs": [
    {
     "data": {
      "text/plain": [
       "0"
      ]
     },
     "execution_count": 19,
     "metadata": {},
     "output_type": "execute_result"
    }
   ],
   "source": [
    "1500%30"
   ]
  },
  {
   "cell_type": "code",
   "execution_count": 24,
   "id": "7c4ce7ff-36e0-4fdc-bb61-f5d74c46e933",
   "metadata": {},
   "outputs": [
    {
     "data": {
      "text/plain": [
       "4.0"
      ]
     },
     "execution_count": 24,
     "metadata": {},
     "output_type": "execute_result"
    }
   ],
   "source": [
    "100/25"
   ]
  },
  {
   "cell_type": "code",
   "execution_count": 28,
   "id": "64f5f143-dc8f-4ec3-93c3-ccbabcb648d7",
   "metadata": {},
   "outputs": [
    {
     "name": "stdout",
     "output_type": "stream",
     "text": [
      "Hello , World!\n"
     ]
    }
   ],
   "source": [
    "print ( \"Hello , World!\")"
   ]
  },
  {
   "cell_type": "code",
   "execution_count": 30,
   "id": "1a67ea19-7566-4a13-b2e0-c3ee4caa0c72",
   "metadata": {},
   "outputs": [
    {
     "name": "stdout",
     "output_type": "stream",
     "text": [
      "Syed Izhan\n"
     ]
    }
   ],
   "source": [
    "print ( \"Syed Izhan\" )"
   ]
  },
  {
   "cell_type": "code",
   "execution_count": 31,
   "id": "de08d58f-4605-4eb4-956c-d14591314977",
   "metadata": {},
   "outputs": [
    {
     "name": "stdout",
     "output_type": "stream",
     "text": [
      "I'm Syed izhan ul hassan my father name is syed Imtiaz ul hassan I'm doing my master in English also doing python course\n"
     ]
    }
   ],
   "source": [
    "print ( \"I'm Syed izhan ul hassan my father name is syed Imtiaz ul hassan I'm doing my master in English also doing python course\")"
   ]
  },
  {
   "cell_type": "code",
   "execution_count": 2,
   "id": "6dbbf5a8-04b4-40fe-8889-1bd97b217041",
   "metadata": {},
   "outputs": [
    {
     "name": "stdout",
     "output_type": "stream",
     "text": [
      "27\n"
     ]
    }
   ],
   "source": [
    "print(3**3) #power"
   ]
  },
  {
   "cell_type": "markdown",
   "id": "9b2a2cbd-768a-4818-897e-722fba8b9073",
   "metadata": {},
   "source": [
    "# operrator Ambbiguity: Sloving Expression"
   ]
  },
  {
   "cell_type": "code",
   "execution_count": 4,
   "id": "f75151f3-5b7d-4d0e-991e-99fde77f8367",
   "metadata": {},
   "outputs": [
    {
     "ename": "SyntaxError",
     "evalue": "invalid syntax (486881083.py, line 1)",
     "output_type": "error",
     "traceback": [
      "\u001b[1;36m  Cell \u001b[1;32mIn[4], line 1\u001b[1;36m\u001b[0m\n\u001b[1;33m    Comparisin Operators:\u001b[0m\n\u001b[1;37m               ^\u001b[0m\n\u001b[1;31mSyntaxError\u001b[0m\u001b[1;31m:\u001b[0m invalid syntax\n"
     ]
    }
   ],
   "source": [
    "Comparisin Operators:\n",
    "- == ( equal)\n",
    "- != (not equal to)\n",
    "- > greater than\n",
    "- < less than\n",
    "- >=\n",
    "- <=\n",
    "- in find something from collection\n",
    "- and\n",
    "- or needs one true\n",
    "- not something false "
   ]
  },
  {
   "cell_type": "code",
   "execution_count": 5,
   "id": "0857272d-6963-4341-810d-bf1e3fb232e4",
   "metadata": {},
   "outputs": [
    {
     "data": {
      "text/plain": [
       "False"
      ]
     },
     "execution_count": 5,
     "metadata": {},
     "output_type": "execute_result"
    }
   ],
   "source": [
    "not(True)"
   ]
  },
  {
   "cell_type": "code",
   "execution_count": 7,
   "id": "36785d36-119a-4c90-94d9-d8c4764debaf",
   "metadata": {},
   "outputs": [
    {
     "data": {
      "text/plain": [
       "True"
      ]
     },
     "execution_count": 7,
     "metadata": {},
     "output_type": "execute_result"
    }
   ],
   "source": [
    "\"I\" in \"Izhan\" in "
   ]
  },
  {
   "cell_type": "code",
   "execution_count": 8,
   "id": "61e869ac-3990-437c-8f38-251433cc869e",
   "metadata": {},
   "outputs": [
    {
     "data": {
      "text/plain": [
       "False"
      ]
     },
     "execution_count": 8,
     "metadata": {},
     "output_type": "execute_result"
    }
   ],
   "source": [
    "\"Z\" in \"zebra\""
   ]
  },
  {
   "cell_type": "code",
   "execution_count": 15,
   "id": "4ca6c1cd-4042-45a6-b8a7-c44fc6550f33",
   "metadata": {},
   "outputs": [
    {
     "name": "stdout",
     "output_type": "stream",
     "text": [
      "115\n"
     ]
    }
   ],
   "source": [
    "import math\n",
    "result= math.floor (115.9)\n",
    "print(result)"
   ]
  },
  {
   "cell_type": "code",
   "execution_count": 13,
   "id": "2abcf74e-abb1-4336-9335-2fdf34913757",
   "metadata": {},
   "outputs": [
    {
     "data": {
      "text/plain": [
       "13"
      ]
     },
     "execution_count": 13,
     "metadata": {},
     "output_type": "execute_result"
    }
   ],
   "source": [
    "math.ceil(12.000001)"
   ]
  },
  {
   "cell_type": "code",
   "execution_count": 18,
   "id": "1db1d369-3dc6-4a97-b183-8176f8643473",
   "metadata": {},
   "outputs": [
    {
     "data": {
      "text/plain": [
       "2"
      ]
     },
     "execution_count": 18,
     "metadata": {},
     "output_type": "execute_result"
    }
   ],
   "source": [
    "13//5"
   ]
  },
  {
   "cell_type": "code",
   "execution_count": 19,
   "id": "820bbf3d-4959-41cc-a8e3-153722a67b59",
   "metadata": {},
   "outputs": [
    {
     "data": {
      "text/plain": [
       "True"
      ]
     },
     "execution_count": 19,
     "metadata": {},
     "output_type": "execute_result"
    }
   ],
   "source": [
    "3 != 3 or 5>4"
   ]
  },
  {
   "cell_type": "code",
   "execution_count": 20,
   "id": "c1e00574-4a13-4b4a-b1e1-16b99d1383e5",
   "metadata": {},
   "outputs": [
    {
     "data": {
      "text/plain": [
       "1"
      ]
     },
     "execution_count": 20,
     "metadata": {},
     "output_type": "execute_result"
    }
   ],
   "source": [
    "2**0"
   ]
  },
  {
   "cell_type": "markdown",
   "id": "82ef252c-8cab-41a1-aaca-d663c523a91f",
   "metadata": {},
   "source": [
    "10 * (3+5) // 2"
   ]
  },
  {
   "cell_type": "code",
   "execution_count": 22,
   "id": "35082546-e945-415e-934e-ea4e4a4f6b76",
   "metadata": {},
   "outputs": [
    {
     "name": "stdout",
     "output_type": "stream",
     "text": [
      "hello\n"
     ]
    }
   ],
   "source": [
    "print (\"hello\")"
   ]
  },
  {
   "cell_type": "code",
   "execution_count": 25,
   "id": "a81c48ca-458e-47ea-b690-3793fd83007d",
   "metadata": {},
   "outputs": [
    {
     "data": {
      "text/plain": [
       "13.0"
      ]
     },
     "execution_count": 25,
     "metadata": {},
     "output_type": "execute_result"
    }
   ],
   "source": [
    "8/2 + 3 * 3 "
   ]
  },
  {
   "cell_type": "code",
   "execution_count": 26,
   "id": "7a3101cd-d2a8-490c-8d9c-699404e454f0",
   "metadata": {},
   "outputs": [
    {
     "data": {
      "text/plain": [
       "'HelloHelloHello'"
      ]
     },
     "execution_count": 26,
     "metadata": {},
     "output_type": "execute_result"
    }
   ],
   "source": [
    "3 * \"Hello\""
   ]
  },
  {
   "cell_type": "code",
   "execution_count": 27,
   "id": "79c1e389-bf4d-415b-b5bb-137c8982bc00",
   "metadata": {},
   "outputs": [
    {
     "data": {
      "text/plain": [
       "18"
      ]
     },
     "execution_count": 27,
     "metadata": {},
     "output_type": "execute_result"
    }
   ],
   "source": [
    "8 % 3 + 2 ** 2 * (2 + 2)"
   ]
  },
  {
   "cell_type": "code",
   "execution_count": 34,
   "id": "929786a2-aa0e-4e0f-9981-d6fb16f894aa",
   "metadata": {},
   "outputs": [
    {
     "name": "stdin",
     "output_type": "stream",
     "text": [
      "Please enter a value of x 3\n"
     ]
    },
    {
     "name": "stdout",
     "output_type": "stream",
     "text": [
      "6\n"
     ]
    }
   ],
   "source": [
    "x = int(input(\"Please enter a value of x\"))\n",
    "y = x * 2 if x < 10 else x / 2\n",
    "print(y)\n"
   ]
  },
  {
   "cell_type": "markdown",
   "id": "4ecf4b8f-618c-4e61-9bfb-e54a6c6ff562",
   "metadata": {},
   "source": [
    "# Condtional statments / control flow\n",
    "if else\n",
    "if elif else"
   ]
  },
  {
   "cell_type": "code",
   "execution_count": 10,
   "id": "87be3429-5869-4bba-8037-b69923ee727c",
   "metadata": {},
   "outputs": [
    {
     "name": "stdin",
     "output_type": "stream",
     "text": [
      "Please enter your marks 99\n"
     ]
    },
    {
     "name": "stdout",
     "output_type": "stream",
     "text": [
      "You passed this exam\n"
     ]
    }
   ],
   "source": [
    "Marks = int(input(\"Please enter your marks\"))\n",
    "\n",
    "if Marks>80:\n",
    "    print(\"You passed this exam\")\n",
    "else:\n",
    "    print(\"You failed\")\n",
    "\n"
   ]
  },
  {
   "cell_type": "code",
   "execution_count": 12,
   "id": "341941f2-2ff5-4dcb-9ea8-2aabcd0cbef1",
   "metadata": {},
   "outputs": [
    {
     "name": "stdin",
     "output_type": "stream",
     "text": [
      "What is the price of short 1200\n"
     ]
    },
    {
     "name": "stdout",
     "output_type": "stream",
     "text": [
      "Buy one short\n"
     ]
    }
   ],
   "source": [
    "price = int(input(\"What is the price of short\"))\n",
    "\n",
    "if price <900:\n",
    "    print(\"Buy four short\")\n",
    "else:\n",
    "    print(\"Buy one short\")"
   ]
  },
  {
   "cell_type": "code",
   "execution_count": 22,
   "id": "d5269f8c-a183-49ed-aa5b-025ecc226210",
   "metadata": {},
   "outputs": [
    {
     "name": "stdin",
     "output_type": "stream",
     "text": [
      "Enter your age  23\n"
     ]
    },
    {
     "name": "stdout",
     "output_type": "stream",
     "text": [
      "You can apply for the test.\n"
     ]
    }
   ],
   "source": [
    "Age = int(input(\"Enter your age \"))\n",
    "\n",
    "if Age > 18:\n",
    "    print(\"You can apply for the test.\")\n",
    "elif Age == 25:  # Corrected this line\n",
    "    print(\"You can apply with extra fees.\")\n",
    "else:\n",
    "    print(\"You are not eligible for the test.\")\n"
   ]
  },
  {
   "cell_type": "code",
   "execution_count": 29,
   "id": "ec613f27-0b90-439b-8cfe-65a362965ccd",
   "metadata": {},
   "outputs": [
    {
     "name": "stdin",
     "output_type": "stream",
     "text": [
      "Enter the value of num 999\n"
     ]
    },
    {
     "name": "stdout",
     "output_type": "stream",
     "text": [
      "Number is whole number\n"
     ]
    }
   ],
   "source": [
    "num = int(input(\"Enter the value of num\"))\n",
    "if (num <0):\n",
    "    print(\"Number is negative\")\n",
    "elif (num >1):\n",
    "    print(\"Number is whole number\")\n",
    "elif (num ==999):\n",
    "    print(\"Number is positve\")\n",
    "else:\n",
    "    print(\"Number is special\")\n"
   ]
  },
  {
   "cell_type": "markdown",
   "id": "84a1a21e-6c00-48df-ae42-12ecc6c1c7eb",
   "metadata": {},
   "source": [
    "# Class 2"
   ]
  },
  {
   "cell_type": "code",
   "execution_count": 12,
   "id": "2e273cfa-e278-4629-b791-a45c2f37ec72",
   "metadata": {},
   "outputs": [
    {
     "name": "stdout",
     "output_type": "stream",
     "text": [
      "integer,float,string,boolen,list\n"
     ]
    }
   ],
   "source": [
    "integer = \"10\"\n",
    "float = \"10.2\"\n",
    "string = \"hello, python\"\n",
    "boolen = \"True\"\n",
    "list = (\"1,2,3,4,5\")\n",
    "print(\"integer,float,string,boolen,list\")\n"
   ]
  },
  {
   "cell_type": "code",
   "execution_count": 14,
   "id": "dd9d8c73-716c-4541-a76f-89433528f87a",
   "metadata": {},
   "outputs": [
    {
     "name": "stdin",
     "output_type": "stream",
     "text": [
      "Enter your marks 990\n"
     ]
    },
    {
     "name": "stdout",
     "output_type": "stream",
     "text": [
      "You can get admission\n"
     ]
    }
   ],
   "source": [
    "Student_marks = int(input(\"Enter your marks\"))\n",
    "if Student_marks>=900:\n",
    "    print(\"You can get admission\")\n",
    "else:\n",
    "    print(\"You can´t get admission\")"
   ]
  },
  {
   "cell_type": "code",
   "execution_count": 16,
   "id": "dc2c3c16-fbde-40b8-881c-7d324f63817a",
   "metadata": {},
   "outputs": [
    {
     "name": "stdin",
     "output_type": "stream",
     "text": [
      "Enter your marks 9999\n"
     ]
    },
    {
     "name": "stdout",
     "output_type": "stream",
     "text": [
      "opps! try next time\n"
     ]
    }
   ],
   "source": [
    "customer_amnt = int(input(\"Enter your marks\"))\n",
    "if customer_amnt>=10000:\n",
    "    print(\"cong you got 10% disscount\")\n",
    "else:\n",
    "    print(\"opps! try next time\")"
   ]
  },
  {
   "cell_type": "code",
   "execution_count": null,
   "id": "0bd7c03b-9143-4d7d-ab9e-01dea72e6d0d",
   "metadata": {},
   "outputs": [],
   "source": [
    "teacher_attend =int(input(\"Enter your attendence\"))\n",
    "if teacher_attend>=29:\n",
    "    print(\"You got one day extra salary\")\n",
    "else:\n",
    "    print(\"One day salary has been cut\")"
   ]
  },
  {
   "cell_type": "code",
   "execution_count": null,
   "id": "819114c8-e0f7-40b8-8501-b55179561b80",
   "metadata": {},
   "outputs": [],
   "source": []
  }
 ],
 "metadata": {
  "kernelspec": {
   "display_name": "Python 3 (ipykernel)",
   "language": "python",
   "name": "python3"
  },
  "language_info": {
   "codemirror_mode": {
    "name": "ipython",
    "version": 3
   },
   "file_extension": ".py",
   "mimetype": "text/x-python",
   "name": "python",
   "nbconvert_exporter": "python",
   "pygments_lexer": "ipython3",
   "version": "3.11.7"
  }
 },
 "nbformat": 4,
 "nbformat_minor": 5
}
