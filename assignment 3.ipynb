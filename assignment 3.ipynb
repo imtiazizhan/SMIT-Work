{
 "cells": [
  {
   "cell_type": "code",
   "execution_count": null,
   "id": "adfe167d-a889-44e1-bfe9-78fe98f477f6",
   "metadata": {},
   "outputs": [],
   "source": [
    "#1. Write a program that accepts a string from user. Your program should count and display number of vowels in that string. "
   ]
  },
  {
   "cell_type": "code",
   "execution_count": 1,
   "id": "9ef91bbd-f7e0-40d2-bbb4-51c56b3ed727",
   "metadata": {},
   "outputs": [
    {
     "name": "stdin",
     "output_type": "stream",
     "text": [
      "Enter a string:  AeioU\n"
     ]
    },
    {
     "name": "stdout",
     "output_type": "stream",
     "text": [
      "Number of vowels in the string: 5\n"
     ]
    }
   ],
   "source": [
    "def count_vowels(input_string):\n",
    "    # Define the vowels\n",
    "    vowels = \"aeiouAEIOU\"\n",
    "    # Initialize a counter for vowels\n",
    "    vowel_count = 0\n",
    "\n",
    "    # Loop through each character in the string\n",
    "    for char in input_string:\n",
    "        # Check if the character is a vowel\n",
    "        if char in vowels:\n",
    "            vowel_count += 1\n",
    "\n",
    "    return vowel_count\n",
    "\n",
    "# Accept a string input from the user\n",
    "user_input = input(\"Enter a string: \")\n",
    "\n",
    "# Call the function to count vowels\n",
    "vowels_in_string = count_vowels(user_input)\n",
    "\n",
    "# Display the result\n",
    "print(\"Number of vowels in the string:\", vowels_in_string)"
   ]
  },
  {
   "cell_type": "code",
   "execution_count": null,
   "id": "a0091494-f44a-4c85-91bb-9c3e9aa87a26",
   "metadata": {},
   "outputs": [],
   "source": [
    " 2. Write a program that reads a string from keyboard and display: \n",
    "* The number of uppercase letters in the string \n",
    "* The number of lowercase letters in the string \n",
    "* The number of digits in the string \n",
    "* The number of whitespace characters in the string\n"
   ]
  },
  {
   "cell_type": "code",
   "execution_count": 2,
   "id": "3819ced0-9031-4969-8ac1-2477028813f9",
   "metadata": {},
   "outputs": [
    {
     "name": "stdin",
     "output_type": "stream",
     "text": [
      "Enter any word =  i am SYED   Izhan\n"
     ]
    },
    {
     "name": "stdout",
     "output_type": "stream",
     "text": [
      "5 7 5 0\n"
     ]
    }
   ],
   "source": [
    "user_input = input(\"Enter any word = \")\n",
    "ucase = 0\n",
    "lcase = 0\n",
    "wspace = 0\n",
    "digits = 0\n",
    "for i in user_input:\n",
    "    if i.isupper():\n",
    "        ucase += 1\n",
    "    if i.islower():\n",
    "        lcase += 1\n",
    "    if i.isspace():\n",
    "        wspace += 1\n",
    "    if i.isdigit():\n",
    "        digits += 1\n",
    "\n",
    "print(ucase,lcase,wspace,digits)"
   ]
  },
  {
   "cell_type": "code",
   "execution_count": 3,
   "id": "5e56df24-70fc-4ae7-a430-f3e7689273aa",
   "metadata": {},
   "outputs": [],
   "source": [
    "#3Write a Python program that accepts a string from user. Your program should create and display a \n",
    "#new string where the first and last characters have been exchanged."
   ]
  },
  {
   "cell_type": "code",
   "execution_count": 4,
   "id": "bcd26ee2-eeed-46f2-8f30-ddee1b436268",
   "metadata": {},
   "outputs": [
    {
     "name": "stdin",
     "output_type": "stream",
     "text": [
      "Enter a string:  Syed\n"
     ]
    },
    {
     "name": "stdout",
     "output_type": "stream",
     "text": [
      "New string with first and last characters swapped: dyeS\n"
     ]
    }
   ],
   "source": [
    "# Accept a string input from the user\n",
    "user_input = input(\"Enter a string: \")\n",
    "\n",
    "# Create the new string by swapping the first and last characters\n",
    "new_string = user_input[-1] + user_input[1:-1] + user_input[0] if len(user_input) > 1 else user_input\n",
    "\n",
    "# Display the result\n",
    "print(\"New string with first and last characters swapped:\", new_string)"
   ]
  },
  {
   "cell_type": "code",
   "execution_count": 6,
   "id": "be962314-1808-484c-a7f4-e4e4f8a2a369",
   "metadata": {},
   "outputs": [],
   "source": [
    "#4. Write a Python program that accepts a string from user. Your program should create a new string in \n",
    "#reverse of first string and display it. \n",
    "#For example if the user enters the string 'EXAM' then new string would be 'MAXE'"
   ]
  },
  {
   "cell_type": "code",
   "execution_count": 7,
   "id": "150f8cad-e4cd-4bef-96b0-c812ba8f54a3",
   "metadata": {},
   "outputs": [
    {
     "name": "stdin",
     "output_type": "stream",
     "text": [
      "Enter the name =  zain\n"
     ]
    },
    {
     "name": "stdout",
     "output_type": "stream",
     "text": [
      "niaz\n"
     ]
    }
   ],
   "source": [
    "user_input = input(\"Enter the name = \")\n",
    "user_input = user_input[::-1]\n",
    "print(user_input)"
   ]
  },
  {
   "cell_type": "code",
   "execution_count": 8,
   "id": "25eb35f0-e5cb-493c-b05b-3083a2168b97",
   "metadata": {},
   "outputs": [],
   "source": [
    "#  Write a Python program that accepts a string from user. Your program should create a new string by \n",
    "# shifting one position to left. \n",
    "# For example if the user enters the string 'examination 2021' then new string would be 'xamination \n",
    "# 2021e' "
   ]
  },
  {
   "cell_type": "code",
   "execution_count": 9,
   "id": "14d51bd7-0480-4c12-805e-d4ab29720334",
   "metadata": {},
   "outputs": [
    {
     "name": "stdin",
     "output_type": "stream",
     "text": [
      "Enter a string:  give me 2000 Rs\n"
     ]
    },
    {
     "name": "stdout",
     "output_type": "stream",
     "text": [
      "String after shifting one position to the left: ive me 2000 Rsg\n"
     ]
    }
   ],
   "source": [
    "# Accept a string input from the user\n",
    "user_input = input(\"Enter a string: \")\n",
    "\n",
    "# Create the new string by shifting one position to the left\n",
    "# The first character is moved to the end\n",
    "shifted_string = user_input[1:] + user_input[0] if len(user_input) > 1 else user_input\n",
    "\n",
    "# Display the result\n",
    "print(\"String after shifting one position to the left:\", shifted_string)"
   ]
  },
  {
   "cell_type": "code",
   "execution_count": 10,
   "id": "c04dae94-aa3a-41a0-b53d-b396331e7fa2",
   "metadata": {},
   "outputs": [],
   "source": [
    "# . Write a program that asks the user to input his name and print its initials. Assuming that the user \n",
    "# always types first name, middle name and last name and does not include any unnecessary spaces. \n",
    "# For example, if the user enters Ajay Kumar Garg the program should display A. K. G. \n",
    "# Note:Don't use split() method "
   ]
  },
  {
   "cell_type": "code",
   "execution_count": 11,
   "id": "fd2dbea7-b9c9-4133-937f-2f1fb420f8ac",
   "metadata": {},
   "outputs": [
    {
     "name": "stdin",
     "output_type": "stream",
     "text": [
      "Enter your full name (First Middle Last):  Imtiaz\n"
     ]
    },
    {
     "name": "stdout",
     "output_type": "stream",
     "text": [
      "Your initials are: I.\n"
     ]
    }
   ],
   "source": [
    "# Accept a full name input from the user\n",
    "user_input = input(\"Enter your full name (First Middle Last): \")\n",
    "\n",
    "# Initialize an empty string for the initials\n",
    "initials = \"\"\n",
    "\n",
    "# Iterate through each character in the input string\n",
    "for i in range(len(user_input)):\n",
    "    # Check if the current character is the first letter or if the previous character is a space\n",
    "    if i == 0 or user_input[i-1] == ' ':\n",
    "        initials += user_input[i].upper() + '. '\n",
    "\n",
    "# Display the initials\n",
    "print(\"Your initials are:\", initials.strip())"
   ]
  },
  {
   "cell_type": "code",
   "execution_count": null,
   "id": "306b10f1-6b1d-4fb0-866c-04dab0a37382",
   "metadata": {},
   "outputs": [],
   "source": [
    "# A palindrome is a string that reads the same backward as forward. For example, the words dad, \n",
    "# madam and radar are all palindromes. Write a programs that determines whether the string is a \n",
    "# palindrome. \n",
    "# Note: do not use reverse() method "
   ]
  },
  {
   "cell_type": "code",
   "execution_count": 12,
   "id": "a5e308cb-b046-4a01-9ac3-d01cf325125b",
   "metadata": {},
   "outputs": [
    {
     "name": "stdin",
     "output_type": "stream",
     "text": [
      "Enter a string:  Dad\n"
     ]
    },
    {
     "name": "stdout",
     "output_type": "stream",
     "text": [
      "The string is not a palindrome.\n"
     ]
    }
   ],
   "source": [
    "user_input = input(\"Enter a string: \")\n",
    "\n",
    "# Check if the string is equal to its reverse\n",
    "is_palindrome = user_input == user_input[::-1]\n",
    "\n",
    "# Display the result\n",
    "if is_palindrome:\n",
    "    print(\"The string is a palindrome.\")\n",
    "else:\n",
    "    print(\"The string is not a palindrome.\")"
   ]
  },
  {
   "cell_type": "code",
   "execution_count": 13,
   "id": "b3eb15a2-ffa5-42be-a9c9-411014d60c46",
   "metadata": {},
   "outputs": [],
   "source": [
    "# . Write a program that display following output: \n",
    "# SHIFT \n",
    "# HIFTS \n",
    "# IFTSH \n",
    "# FTSHI \n",
    "# TSHIF \n",
    "# SHIFT"
   ]
  },
  {
   "cell_type": "code",
   "execution_count": 14,
   "id": "6aeb08ba-e8a0-4a8d-b403-525e985b261f",
   "metadata": {},
   "outputs": [
    {
     "name": "stdout",
     "output_type": "stream",
     "text": [
      "SHIFT\n",
      "HIFTS\n",
      "IFTSH\n",
      "FTSHI\n",
      "TSHIF\n"
     ]
    }
   ],
   "source": [
    "base_string = \"SHIFT\"\n",
    "\n",
    "# Loop through the length of the base string\n",
    "for i in range(len(base_string)):\n",
    "    # Print the substring starting from the current index to the end,\n",
    "    # followed by the substring from the beginning up to the current index\n",
    "    print(base_string[i:] + base_string[:i])"
   ]
  },
  {
   "cell_type": "code",
   "execution_count": 15,
   "id": "42e27cc7-f71f-4f08-b0d2-8cdf9a2f8558",
   "metadata": {},
   "outputs": [
    {
     "name": "stdin",
     "output_type": "stream",
     "text": [
      "Enter your password:  Imtiaz.syed9880\n"
     ]
    },
    {
     "name": "stdout",
     "output_type": "stream",
     "text": [
      "Password is valid.\n"
     ]
    }
   ],
   "source": [
    "import re\n",
    "\n",
    "def validate_password(password):\n",
    "    # Check if the password is at least 8 characters long\n",
    "    if len(password) < 8:\n",
    "        return \"Password must be at least 8 characters long.\"\n",
    "    \n",
    "    # Check if the password contains at least one uppercase letter\n",
    "    if not re.search(r'[A-Z]', password):\n",
    "        return \"Password must contain at least one uppercase letter.\"\n",
    "    \n",
    "    # Check if the password contains at least one lowercase letter\n",
    "    if not re.search(r'[a-z]', password):\n",
    "        return \"Password must contain at least one lowercase letter.\"\n",
    "    \n",
    "    # Check if the password contains at least one numeric digit\n",
    "    if not re.search(r'\\d', password):\n",
    "        return \"Password must contain at least one numeric digit.\"\n",
    "    \n",
    "    # If all checks pass\n",
    "    return \"Password is valid.\"\n",
    "\n",
    "# Accept a password input from the user\n",
    "password = input(\"Enter your password: \")\n",
    "\n",
    "# Validate the password and display the result\n",
    "validation_result = validate_password(password)\n",
    "print(validation_result)"
   ]
  },
  {
   "cell_type": "code",
   "execution_count": null,
   "id": "629fd17c-bfa9-423c-8b96-25188fda4391",
   "metadata": {},
   "outputs": [],
   "source": []
  }
 ],
 "metadata": {
  "kernelspec": {
   "display_name": "Python 3 (ipykernel)",
   "language": "python",
   "name": "python3"
  },
  "language_info": {
   "codemirror_mode": {
    "name": "ipython",
    "version": 3
   },
   "file_extension": ".py",
   "mimetype": "text/x-python",
   "name": "python",
   "nbconvert_exporter": "python",
   "pygments_lexer": "ipython3",
   "version": "3.11.7"
  }
 },
 "nbformat": 4,
 "nbformat_minor": 5
}
