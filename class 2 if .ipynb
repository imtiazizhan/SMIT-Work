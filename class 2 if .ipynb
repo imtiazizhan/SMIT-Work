{
 "cells": [
  {
   "cell_type": "code",
   "execution_count": 1,
   "id": "bad7db85-735e-4815-8512-6d830cc0f5c4",
   "metadata": {},
   "outputs": [
    {
     "name": "stdin",
     "output_type": "stream",
     "text": [
      "Enter your marks 989\n"
     ]
    },
    {
     "name": "stdout",
     "output_type": "stream",
     "text": [
      "You can get admission\n"
     ]
    }
   ],
   "source": [
    "Student_marks = int(input(\"Enter your marks\"))\n",
    "if Student_marks>=900:\n",
    "    print(\"You can get admission\")\n",
    "else:\n",
    "    print(\"You can´t get admission\")"
   ]
  },
  {
   "cell_type": "code",
   "execution_count": 3,
   "id": "979c3c56-e9c2-41b6-adf1-615e50c1400d",
   "metadata": {},
   "outputs": [
    {
     "name": "stdin",
     "output_type": "stream",
     "text": [
      "Enter your amount 9000\n"
     ]
    },
    {
     "name": "stdout",
     "output_type": "stream",
     "text": [
      "opps! try next time\n"
     ]
    }
   ],
   "source": [
    "customer_amnt = int(input(\"Enter your amount\"))\n",
    "if customer_amnt>=10000:\n",
    "    print(\"cong you got 10% disscount\")\n",
    "else:\n",
    "    print(\"opps! try next time\")"
   ]
  },
  {
   "cell_type": "code",
   "execution_count": 5,
   "id": "d0d51281-1c05-4380-a272-c4e32291e3b6",
   "metadata": {},
   "outputs": [
    {
     "data": {
      "text/plain": [
       "24.0"
      ]
     },
     "execution_count": 5,
     "metadata": {},
     "output_type": "execute_result"
    }
   ],
   "source": [
    "float(\"24\")"
   ]
  },
  {
   "cell_type": "code",
   "execution_count": 11,
   "id": "651a899b-d15e-432a-b317-97b34630edd6",
   "metadata": {},
   "outputs": [
    {
     "name": "stdin",
     "output_type": "stream",
     "text": [
      "Enter pent price 2900\n",
      "Enter shirt price 1560\n",
      "Enter watch price 890\n",
      "Enter belt price 600\n",
      "Enter facewash price 6000\n"
     ]
    },
    {
     "name": "stdout",
     "output_type": "stream",
     "text": [
      "\n",
      "             Thank you for shopping!!!\n",
      "             \n",
      "             Total: 11950.0\n",
      "             Discount: 1792.5\n",
      "             Payable: 10157.5\n",
      "\n"
     ]
    }
   ],
   "source": [
    "cost_pent = float(input(\"Enter pent price\"))\n",
    "cost_shirt = float(input(\"Enter shirt price\"))\n",
    "cost_watch = float(input(\"Enter watch price\"))\n",
    "cost_belt = float(input(\"Enter belt price\"))\n",
    "cost_facewash = float(input(\"Enter facewash price\"))\n",
    "\n",
    "total = cost_pent+cost_shirt+cost_watch+cost_belt+cost_facewash\n",
    "disscount = 0\n",
    "\n",
    "if total>=10000:\n",
    "    discount=total*0.15\n",
    "elif total>=9000:\n",
    "    discount=total*0.12\n",
    "elif total>=8500:\n",
    "    discount=total*0.8\n",
    "elif total>=5000:\n",
    "    discount=total*0.5\n",
    "else:\n",
    "    print(\"You are not eligible of disscount\")\n",
    "\n",
    "print(f\"\"\"\n",
    "             Thank you for shopping!!!\n",
    "             \n",
    "             Total: {total}\n",
    "             Discount: {discount}\n",
    "             Payable: {total-discount}\n",
    "\"\"\")\n"
   ]
  },
  {
   "cell_type": "markdown",
   "id": "a52c2c30-3ed9-487e-bef7-0d8e2bbc7883",
   "metadata": {},
   "source": [
    "# string contenation (join)"
   ]
  },
  {
   "cell_type": "code",
   "execution_count": 14,
   "id": "7ef5e3b1-a946-4ef2-8745-cfae1f619c7f",
   "metadata": {},
   "outputs": [],
   "source": [
    "first_name = \"Syed\"\n",
    "last_name = \"Izhan\"\n",
    "age = \"23\""
   ]
  },
  {
   "cell_type": "code",
   "execution_count": 15,
   "id": "905b536f-c15d-4560-831d-2176c4e4de6b",
   "metadata": {},
   "outputs": [
    {
     "data": {
      "text/plain": [
       "'Syed'"
      ]
     },
     "execution_count": 15,
     "metadata": {},
     "output_type": "execute_result"
    }
   ],
   "source": [
    "first_name"
   ]
  },
  {
   "cell_type": "code",
   "execution_count": 16,
   "id": "90b7e2ec-532e-49f8-b309-80031e6940d5",
   "metadata": {},
   "outputs": [
    {
     "data": {
      "text/plain": [
       "'Izhan'"
      ]
     },
     "execution_count": 16,
     "metadata": {},
     "output_type": "execute_result"
    }
   ],
   "source": [
    "last_name"
   ]
  },
  {
   "cell_type": "code",
   "execution_count": 17,
   "id": "40777505-7456-44fa-92cb-63522f63abfc",
   "metadata": {},
   "outputs": [
    {
     "data": {
      "text/plain": [
       "'SyedIzhan'"
      ]
     },
     "execution_count": 17,
     "metadata": {},
     "output_type": "execute_result"
    }
   ],
   "source": [
    "first_name+last_name"
   ]
  },
  {
   "cell_type": "code",
   "execution_count": 5,
   "id": "5c751183-40fe-4929-8efa-4a34d5bcceb1",
   "metadata": {},
   "outputs": [
    {
     "name": "stdout",
     "output_type": "stream",
     "text": [
      "syed izhan 23\n"
     ]
    }
   ],
   "source": [
    "first_name = \"syed\"\n",
    "last_name = \"izhan\"\n",
    "age = 23\n",
    "\n",
    "full_info = first_name + \" \" + last_name + \" \" + str(age)\n",
    "print(full_info)"
   ]
  },
  {
   "cell_type": "code",
   "execution_count": 34,
   "id": "96ac87c3-b4c3-448f-b879-bdb088ebb22c",
   "metadata": {},
   "outputs": [],
   "source": [
    "first_name = \"syed\"\n",
    "last_name = \"imtiaz\"\n",
    "age = 55\n"
   ]
  },
  {
   "cell_type": "code",
   "execution_count": 2,
   "id": "4159438b-7f80-42fc-a01c-9eb9f476d37b",
   "metadata": {},
   "outputs": [
    {
     "ename": "SyntaxError",
     "evalue": "invalid syntax (662120810.py, line 1)",
     "output_type": "error",
     "traceback": [
      "\u001b[1;36m  Cell \u001b[1;32mIn[2], line 1\u001b[1;36m\u001b[0m\n\u001b[1;33m    full_info = first_name+ \" \"+ last_name \" \"+ str(age)\u001b[0m\n\u001b[1;37m                                           ^\u001b[0m\n\u001b[1;31mSyntaxError\u001b[0m\u001b[1;31m:\u001b[0m invalid syntax\n"
     ]
    }
   ],
   "source": [
    "full_info = first_name+ \" \"+ last_name \" \"+ str(age)\n",
    "print(full_info)"
   ]
  },
  {
   "cell_type": "markdown",
   "id": "3fcedbd0-7a86-4d2e-aa98-9468f235dd60",
   "metadata": {},
   "source": [
    "# StringFormat"
   ]
  },
  {
   "cell_type": "code",
   "execution_count": 6,
   "id": "78c2a08b-2123-4d37-bfdd-99be7a2649a5",
   "metadata": {},
   "outputs": [
    {
     "data": {
      "text/plain": [
       "'My name is Syed Izhan, And I am 23 years old'"
      ]
     },
     "execution_count": 6,
     "metadata": {},
     "output_type": "execute_result"
    }
   ],
   "source": [
    "\"My name is {} {}, And I am {} years old\".format(first_name.capitalize(), last_name.capitalize(), age)"
   ]
  },
  {
   "cell_type": "code",
   "execution_count": 8,
   "id": "80464cb3-7f25-4ef5-aceb-e5879668c1fd",
   "metadata": {},
   "outputs": [
    {
     "data": {
      "text/plain": [
       "'My name is Izhan Syed, And I am 23 years old'"
      ]
     },
     "execution_count": 8,
     "metadata": {},
     "output_type": "execute_result"
    }
   ],
   "source": [
    "\"My name is {1} {0}, And I am {2} years old\".format(first_name.capitalize(), last_name.capitalize(), age)"
   ]
  },
  {
   "cell_type": "code",
   "execution_count": 20,
   "id": "de3b7521-349e-4a16-9111-4196d0b413d0",
   "metadata": {},
   "outputs": [
    {
     "name": "stdout",
     "output_type": "stream",
     "text": [
      "My name is {first_name.capitalize()} {last_name.capitalize()}, And I am {age} years old\n"
     ]
    }
   ],
   "source": [
    "print(\"My name is {first_name.capitalize()} {last_name.capitalize()}, And I am {age} years old\")"
   ]
  },
  {
   "cell_type": "code",
   "execution_count": 22,
   "id": "ae53f7dc-8c38-4e14-914f-d5623ac34d06",
   "metadata": {},
   "outputs": [
    {
     "name": "stdin",
     "output_type": "stream",
     "text": [
      "Enter your name:           SYED IZHAN UL HASSAN\n",
      "Enter your father name:   SYED IMTIAZ UL HASSAN\n",
      "Enter your age:          23\n",
      "Enter your your course    Python Programing\n",
      "Enter your student id:     2345\n"
     ]
    },
    {
     "name": "stdout",
     "output_type": "stream",
     "text": [
      "\n",
      "            Saylani Mass IT Traning Program\n",
      "            ________________________________\n",
      "\n",
      "                  Student Identity Card\n",
      "                  ======================\n",
      "            Student Name:  SYED IZHAN UL HASSAN\n",
      "            Father Name :  SYED IMTIAZ UL HASSAN\n",
      "            Age         :  23\n",
      "            Course      :  Python Programing\n",
      "            Student_Id  :  2345\n",
      "\n",
      "\n",
      "\n",
      "\n",
      "\n",
      "\n",
      "\n"
     ]
    }
   ],
   "source": [
    "name = input(\"Enter your name:          \")\n",
    "f_name =input(\"Enter your father name:  \")\n",
    "age =int(input(\"Enter your age:         \"))\n",
    "course=int(input(\"Enter your your course \"))\n",
    "st_id= input(\"Enter your student id:    \")\n",
    "\n",
    "\n",
    "print(f\"\"\"\n",
    "            Saylani Mass IT Traning Program\n",
    "            ________________________________\n",
    "\n",
    "                  Student Identity Card\n",
    "                  ======================\n",
    "            Student Name:  {name}\n",
    "            Father Name :  {f_name}\n",
    "            Age         :  {age}\n",
    "            Course      :  {course}\n",
    "            Student_Id  :  {st_id}\n",
    "\n",
    "\n",
    "\n",
    "\n",
    "\n",
    "\n",
    "\"\"\")"
   ]
  },
  {
   "cell_type": "code",
   "execution_count": 31,
   "id": "63906a15-ef11-443e-a15d-75fb43e86342",
   "metadata": {},
   "outputs": [
    {
     "name": "stdin",
     "output_type": "stream",
     "text": [
      "Enter your name:                  Sudaim\n",
      "Enter your father name:          Adeel\n",
      "Enter your age:                12\n",
      "Enter your your grade:     9\n",
      "Enter your student id:            988\n"
     ]
    },
    {
     "name": "stdout",
     "output_type": "stream",
     "text": [
      "\n",
      "            The Lings School System Mirpurkhas\n",
      "            ________________________________\n",
      "\n",
      "                  Student Identity Card\n",
      "                  ======================\n",
      "            Student Name:  Sudaim\n",
      "            Father Name :  Adeel\n",
      "            Age         :  12\n",
      "            Standard     :  9\n",
      "            Student_Id  :  988\n",
      "\n",
      "\n",
      "\n",
      "\n",
      "\n",
      "\n",
      "\n"
     ]
    }
   ],
   "source": [
    "name = input(\"Enter your name:                 \")\n",
    "f_name =input(\"Enter your father name:         \")\n",
    "age =int(input(\"Enter your age:               \"))\n",
    "standard =int(input(\"Enter your your standard: \"))\n",
    "st_id= input(\"Enter your student id:           \")\n",
    "\n",
    "\n",
    "print(f\"\"\"\n",
    "            The Lings School System Mirpurkhas\n",
    "            ________________________________\n",
    "\n",
    "                  Student Identity Card\n",
    "                  ======================\n",
    "            Student Name:  {name}\n",
    "            Father Name :  {f_name}\n",
    "            Age         :  {age}\n",
    "            Standard     :  {standard}\n",
    "            Student_Id  :  {st_id}\n",
    "\n",
    "\n",
    "\n",
    "\n",
    "\n",
    "\n",
    "\"\"\")"
   ]
  },
  {
   "cell_type": "code",
   "execution_count": 34,
   "id": "46183b7d-9787-4dab-8739-61cf1b39c2e9",
   "metadata": {},
   "outputs": [],
   "source": [
    "text= \"My name is Syed Izhan and I am 23 years old\""
   ]
  },
  {
   "cell_type": "code",
   "execution_count": 35,
   "id": "df627aa7-5cc0-4600-af40-2614c418d93c",
   "metadata": {},
   "outputs": [
    {
     "data": {
      "text/plain": [
       "'My name is syed izhan and i am 23 years old'"
      ]
     },
     "execution_count": 35,
     "metadata": {},
     "output_type": "execute_result"
    }
   ],
   "source": [
    "text.capitalize()"
   ]
  },
  {
   "cell_type": "code",
   "execution_count": 36,
   "id": "aa08102f-b907-4f1a-b7d1-cb0dd8ebaa6f",
   "metadata": {},
   "outputs": [
    {
     "data": {
      "text/plain": [
       "5"
      ]
     },
     "execution_count": 36,
     "metadata": {},
     "output_type": "execute_result"
    }
   ],
   "source": [
    "text.count(\"a\")"
   ]
  },
  {
   "cell_type": "code",
   "execution_count": 39,
   "id": "227d7c51-cbbf-46dd-9939-e74f947afb8b",
   "metadata": {},
   "outputs": [
    {
     "data": {
      "text/plain": [
       "True"
      ]
     },
     "execution_count": 39,
     "metadata": {},
     "output_type": "execute_result"
    }
   ],
   "source": [
    "text.endswith(\"d\")"
   ]
  },
  {
   "cell_type": "code",
   "execution_count": 1,
   "id": "8ab897f0-0da6-46f8-b2af-8c0ea67908b1",
   "metadata": {},
   "outputs": [
    {
     "name": "stdin",
     "output_type": "stream",
     "text": [
      "Enter Pizza price:                600\n",
      "Enter Pasta price:                300\n",
      "Enter Cold drink price:  250\n"
     ]
    },
    {
     "name": "stdout",
     "output_type": "stream",
     "text": [
      "\n",
      "                  Syed Food Corner \n",
      "            ________________________________\n",
      "\n",
      "                  Coustomer Bill\n",
      "                  ======================\n",
      "            Pizza      :      600\n",
      "            Pasta      :      300\n",
      "            Cold drink :    250\n",
      "            \n",
      "\n",
      "\n",
      "\n",
      "\n",
      "\n",
      "\n",
      "\n"
     ]
    }
   ],
   "source": [
    "pizza = input(\"Enter Pizza price:               \")\n",
    "pasta = input(\"Enter Pasta price:               \")\n",
    "cold_drink =int(input(\"Enter Cold drink price: \"))\n",
    "\n",
    "\n",
    "\n",
    "print(f\"\"\"\n",
    "                  Syed Food Corner \n",
    "            ________________________________\n",
    "\n",
    "                  Coustomer Bill\n",
    "                  ======================\n",
    "            Pizza      :      {pizza}\n",
    "            Pasta      :      {pasta}\n",
    "            Cold drink :    {cold_drink}\n",
    "            \n",
    "\n",
    "\n",
    "\n",
    "\n",
    "\n",
    "\n",
    "\"\"\")\n"
   ]
  },
  {
   "cell_type": "code",
   "execution_count": null,
   "id": "86f360ef-8595-465f-94fb-1443cea6b499",
   "metadata": {},
   "outputs": [],
   "source": []
  }
 ],
 "metadata": {
  "kernelspec": {
   "display_name": "Python 3 (ipykernel)",
   "language": "python",
   "name": "python3"
  },
  "language_info": {
   "codemirror_mode": {
    "name": "ipython",
    "version": 3
   },
   "file_extension": ".py",
   "mimetype": "text/x-python",
   "name": "python",
   "nbconvert_exporter": "python",
   "pygments_lexer": "ipython3",
   "version": "3.11.7"
  }
 },
 "nbformat": 4,
 "nbformat_minor": 5
}
