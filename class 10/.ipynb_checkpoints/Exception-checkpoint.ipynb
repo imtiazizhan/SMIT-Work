{
 "cells": [
  {
   "cell_type": "code",
   "execution_count": 2,
   "id": "794ba1a9-bf4d-4f89-89d9-7ff3176893a4",
   "metadata": {},
   "outputs": [
    {
     "name": "stdin",
     "output_type": "stream",
     "text": [
      " 44\n"
     ]
    },
    {
     "name": "stdout",
     "output_type": "stream",
     "text": [
      "Error Occured\n"
     ]
    }
   ],
   "source": [
    "a = int(input())\n",
    "try:\n",
    "   print(a + \"Hello\")\n",
    "except:\n",
    "    print(\"Error Occured\")\n",
    "    "
   ]
  },
  {
   "cell_type": "code",
   "execution_count": null,
   "id": "78a06235-8004-4a00-9807-3feb1f12c972",
   "metadata": {},
   "outputs": [],
   "source": []
  },
  {
   "cell_type": "code",
   "execution_count": 3,
   "id": "f178fc31-5a82-46be-822f-5884f53d452c",
   "metadata": {},
   "outputs": [
    {
     "name": "stdout",
     "output_type": "stream",
     "text": [
      "0\n"
     ]
    }
   ],
   "source": [
    "print(10%2)"
   ]
  },
  {
   "cell_type": "code",
   "execution_count": 7,
   "id": "49646d78-9123-4428-92a0-b229045a7add",
   "metadata": {},
   "outputs": [
    {
     "name": "stdout",
     "output_type": "stream",
     "text": [
      "can only concatenate str (not \"int\") to str\n"
     ]
    }
   ],
   "source": [
    "#Attempting to concatenate a string and an integer\n",
    "try:\n",
    "    result = \"The answer is : \" + 42\n",
    "except Exception as e:\n",
    " print(e)"
   ]
  },
  {
   "cell_type": "code",
   "execution_count": 8,
   "id": "da70fe25-8303-4065-96a8-8747fef29ec2",
   "metadata": {},
   "outputs": [
    {
     "ename": "SyntaxError",
     "evalue": "invalid syntax (2552236930.py, line 1)",
     "output_type": "error",
     "traceback": [
      "\u001b[1;36m  Cell \u001b[1;32mIn[8], line 1\u001b[1;36m\u001b[0m\n\u001b[1;33m    i am izhan\u001b[0m\n\u001b[1;37m      ^\u001b[0m\n\u001b[1;31mSyntaxError\u001b[0m\u001b[1;31m:\u001b[0m invalid syntax\n"
     ]
    }
   ],
   "source": [
    "i am izhan"
   ]
  },
  {
   "cell_type": "code",
   "execution_count": 9,
   "id": "a29ec262-3937-4cf3-8664-ba9988cf1449",
   "metadata": {},
   "outputs": [
    {
     "name": "stdout",
     "output_type": "stream",
     "text": [
      "The answer is: 42\n",
      "code Excuted\n"
     ]
    }
   ],
   "source": [
    "# Final Block\n",
    "try:\n",
    "    result = \"The answer is: \"+ '42' \n",
    "    print(result)\n",
    "9except TypeError as e:\n",
    "    print(f\"TypeError: {e}\")\n",
    "finally:\n",
    "    print(\"code Excuted\")"
   ]
  },
  {
   "cell_type": "markdown",
   "id": "b11ffcaf-2b14-4534-a2e3-4146b2aa0de5",
   "metadata": {},
   "source": [
    "#converting a string to an integer\n",
    "try:\n",
    "    number = int('abc')\n",
    "except ValueError as e:\n",
    "    print(f\"ValueError: {e}\")"
   ]
  },
  {
   "cell_type": "code",
   "execution_count": 16,
   "id": "4e4192c2-2d54-4643-806b-5618d8ea70bf",
   "metadata": {
    "scrolled": true
   },
   "outputs": [
    {
     "name": "stdout",
     "output_type": "stream",
     "text": [
      "ValueError:invalid literal for int() with base 10: '10.15'\n"
     ]
    }
   ],
   "source": [
    "try:\n",
    "    result= float(int(\"10.15\"))\n",
    "    print(result)\n",
    "except ValueError as e:\n",
    "    print(f\"ValueError:{e}\")\n",
    "else:\n",
    "    print(\"Code Executed\")"
   ]
  },
  {
   "cell_type": "markdown",
   "id": "10060c47-d233-4544-ad55-a84fc11c6f4e",
   "metadata": {},
   "source": [
    "# File Handling\n"
   ]
  },
  {
   "cell_type": "code",
   "execution_count": 1,
   "id": "5a43a749-1117-4bde-86bb-cbd9f924cefd",
   "metadata": {},
   "outputs": [],
   "source": [
    " # file = open('FileName',mode)"
   ]
  },
  {
   "cell_type": "code",
   "execution_count": 10,
   "id": "01ac4a52-f847-46c0-951f-91b15fd6f8d9",
   "metadata": {},
   "outputs": [
    {
     "name": "stdout",
     "output_type": "stream",
     "text": [
      "Hello Izhan Syed\n"
     ]
    }
   ],
   "source": [
    "file = open('C:/Users/HAROON TRADERS/Desktop/izhan.txt','r')\n",
    "content = file.read()\n",
    "print(content)"
   ]
  },
  {
   "cell_type": "code",
   "execution_count": 12,
   "id": "036be129-ed0f-4a66-8a39-ee51ca02ba8a",
   "metadata": {},
   "outputs": [
    {
     "name": "stdout",
     "output_type": "stream",
     "text": [
      "Hello Izhan How are you I'm good I want to tell about my Birthday \n"
     ]
    }
   ],
   "source": [
    "with open('python.txt',mode='r') as f:\n",
    "    content = f.read()\n",
    "    print(content)"
   ]
  },
  {
   "cell_type": "code",
   "execution_count": 17,
   "id": "134ac501-8cf9-4a4e-a2eb-07b9e358b7c6",
   "metadata": {},
   "outputs": [
    {
     "name": "stdout",
     "output_type": "stream",
     "text": [
      "[]\n"
     ]
    }
   ],
   "source": [
    "with open('python.txt',mode='r') as f:\n",
    "    f.seek(0)\n",
    "    content = file.readlines()\n",
    "    print(content)"
   ]
  },
  {
   "cell_type": "code",
   "execution_count": 20,
   "id": "a4ce57c8-5e3e-4f30-80e2-63fcdf2b0227",
   "metadata": {},
   "outputs": [
    {
     "name": "stdout",
     "output_type": "stream",
     "text": [
      "Hello Izhan How are you\n",
      "\n"
     ]
    }
   ],
   "source": [
    "with open('python.txt',mode='r') as f:\n",
    "    f.seek(0)\n",
    "    content = f.readline()\n",
    "    print(content)"
   ]
  },
  {
   "cell_type": "code",
   "execution_count": 30,
   "id": "24fe54ad-4c9c-4a0d-a5d2-ccade88af34b",
   "metadata": {},
   "outputs": [
    {
     "name": "stdout",
     "output_type": "stream",
     "text": [
      "['Hello Izhan How are you\\n', \"I'm good \\n\", 'I want to tell about my Birthday ']\n"
     ]
    }
   ],
   "source": [
    "with open('python.txt',mode='r') as f:\n",
    "    f.seek(0)\n",
    "    content = f.readlines()\n",
    "    print(content)"
   ]
  },
  {
   "cell_type": "code",
   "execution_count": 42,
   "id": "794addd1-a1ba-45ae-a7b1-6e3539645ad4",
   "metadata": {},
   "outputs": [
    {
     "name": "stdout",
     "output_type": "stream",
     "text": [
      "[Errno 2] No such file or directory: 'm.txt'\n"
     ]
    }
   ],
   "source": [
    "try:\n",
    "    file = open(\"m.txt\",mode=\"r\")\n",
    "    file.write(\"Hello\")\n",
    "    file.close()\n",
    "except FileNotFoundError as e :\n",
    "    print(e)"
   ]
  },
  {
   "cell_type": "code",
   "execution_count": null,
   "id": "48d32870-f62b-4ed4-9576-dd854ff59ac4",
   "metadata": {},
   "outputs": [],
   "source": []
  }
 ],
 "metadata": {
  "kernelspec": {
   "display_name": "Python 3 (ipykernel)",
   "language": "python",
   "name": "python3"
  },
  "language_info": {
   "codemirror_mode": {
    "name": "ipython",
    "version": 3
   },
   "file_extension": ".py",
   "mimetype": "text/x-python",
   "name": "python",
   "nbconvert_exporter": "python",
   "pygments_lexer": "ipython3",
   "version": "3.11.7"
  }
 },
 "nbformat": 4,
 "nbformat_minor": 5
}
