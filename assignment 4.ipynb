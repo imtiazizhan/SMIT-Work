{
 "cells": [
  {
   "cell_type": "code",
   "execution_count": 1,
   "id": "7c2fa753-58b9-4eb1-a154-3e16c947cb4a",
   "metadata": {},
   "outputs": [],
   "source": [
    " # Write a program that accepts a list from user and print the alternate element of list. "
   ]
  },
  {
   "cell_type": "code",
   "execution_count": 4,
   "id": "19107b89-83fc-4fc2-ad03-d8c2eac22306",
   "metadata": {},
   "outputs": [
    {
     "name": "stdin",
     "output_type": "stream",
     "text": [
      "Enter Your colors name =  Blue\n",
      "Enter Your colors name =  White\n",
      "Enter Your colors name =  Grey\n",
      "Enter Your colors name =  Green\n"
     ]
    },
    {
     "name": "stdout",
     "output_type": "stream",
     "text": [
      "Blue\n",
      "White\n",
      "Grey\n",
      "Green\n"
     ]
    }
   ],
   "source": [
    "colors = []\n",
    "for i in range(4):\n",
    "    colors.append(input(\"Enter Your colors name = \"))\n",
    "\n",
    "for i in colors:\n",
    "    print(i)"
   ]
  },
  {
   "cell_type": "code",
   "execution_count": 3,
   "id": "a1419e8e-0f15-4c1a-b3b8-0ad0f62edbee",
   "metadata": {},
   "outputs": [],
   "source": [
    "# Write a program that accepts a list from user. Your program should reverse the content of list and \n",
    "# display it. Do not use reverse() method. "
   ]
  },
  {
   "cell_type": "code",
   "execution_count": 6,
   "id": "7b78f24e-0671-441e-a6ca-fb597df65eae",
   "metadata": {},
   "outputs": [
    {
     "name": "stdin",
     "output_type": "stream",
     "text": [
      "Enter Your  name =  Ahmed\n",
      "Enter Your  name =  Zain\n",
      "Enter Your  name =  Izhan\n",
      "Enter Your  name =  Faizan\n"
     ]
    },
    {
     "name": "stdout",
     "output_type": "stream",
     "text": [
      "['Faizan', 'Izhan', 'Zain', 'Ahmed']\n"
     ]
    }
   ],
   "source": [
    "name = []\n",
    "for i in range(4):\n",
    "    name.append(input(\"Enter Your  name = \"))\n",
    "\n",
    "x = name[::-1]\n",
    "print(x)"
   ]
  },
  {
   "cell_type": "code",
   "execution_count": 7,
   "id": "e43fd547-c166-4eab-9179-5103024ea22f",
   "metadata": {},
   "outputs": [],
   "source": [
    "# Find and display the largest number of a list without using built-in function max(). Your program \n",
    "# should ask the user to input values in list from keyboard."
   ]
  },
  {
   "cell_type": "code",
   "execution_count": 8,
   "id": "d5b39fe5-8587-4804-9354-8d17bf2ea1ae",
   "metadata": {},
   "outputs": [
    {
     "name": "stdin",
     "output_type": "stream",
     "text": [
      "Enter numbers separated by spaces:  0 6 7 8\n"
     ]
    },
    {
     "name": "stdout",
     "output_type": "stream",
     "text": [
      "The largest number in the list is: 8\n"
     ]
    }
   ],
   "source": [
    "# Accept a list of numbers from the user\n",
    "user_input = input(\"Enter numbers separated by spaces: \")\n",
    "# Convert the input string to a list of numbers\n",
    "user_list = [int(x) for x in user_input.split()]\n",
    "\n",
    "# Check if the list is empty\n",
    "if len(user_list) == 0:\n",
    "    print(\"The list is empty.\")\n",
    "else:\n",
    "    # Initialize the first element as the largest\n",
    "    largest_number = user_list[0]\n",
    "\n",
    "    # Iterate through the list to find the largest number\n",
    "    for number in user_list:\n",
    "        if number > largest_number:\n",
    "            largest_number = number\n",
    "\n",
    "    # Display the largest number\n",
    "    print(\"The largest number in the list is:\", largest_number)\n"
   ]
  },
  {
   "cell_type": "code",
   "execution_count": 10,
   "id": "98c7667c-d367-4497-b5bf-48a548feb79b",
   "metadata": {},
   "outputs": [
    {
     "name": "stdout",
     "output_type": "stream",
     "text": [
      "[5, 1, 2, 3, 4]\n"
     ]
    }
   ],
   "source": [
    "my_list = [1, 2, 3, 4, 5]\n",
    "rotated_list = my_list[-1:] + my_list[:-1]\n",
    "print(rotated_list)"
   ]
  },
  {
   "cell_type": "code",
   "execution_count": 11,
   "id": "c5e453e0-9a28-45d7-ba56-e0bb8fc90367",
   "metadata": {},
   "outputs": [],
   "source": [
    "# . Write a program that input a string and ask user to delete a given word from a string. "
   ]
  },
  {
   "cell_type": "code",
   "execution_count": 12,
   "id": "f1126d0a-8a69-4e08-8357-18a5c445e79e",
   "metadata": {},
   "outputs": [
    {
     "name": "stdin",
     "output_type": "stream",
     "text": [
      "Enter a string:  The boy was going to school\n",
      "Enter the word to delete:  school\n"
     ]
    },
    {
     "name": "stdout",
     "output_type": "stream",
     "text": [
      "Modified string is: The boy was going to\n"
     ]
    }
   ],
   "source": [
    "# Accept a string from the user\n",
    "user_string = input(\"Enter a string: \")\n",
    "\n",
    "# Accept the word to delete from the user\n",
    "word_to_delete = input(\"Enter the word to delete: \")\n",
    "\n",
    "# Split the string into a list of words\n",
    "word_list = user_string.split()\n",
    "\n",
    "# Remove the word from the list if it exists\n",
    "modified_list = [word for word in word_list if word != word_to_delete]\n",
    "\n",
    "# Join the list back into a string\n",
    "modified_string = ' '.join(modified_list)\n",
    "\n",
    "# Display the modified string\n",
    "print(\"Modified string is:\", modified_string)\n"
   ]
  },
  {
   "cell_type": "code",
   "execution_count": 13,
   "id": "63b87491-3fc4-411e-847b-9fc790e9b9bb",
   "metadata": {},
   "outputs": [],
   "source": [
    "# Write a program that reads a string from the user containing a date in the form mm/dd/yyyy. It \n",
    "# should print the date in the form March 12, 2021. "
   ]
  },
  {
   "cell_type": "code",
   "execution_count": 14,
   "id": "675437cd-d4cd-4040-82c1-ec577fe16155",
   "metadata": {},
   "outputs": [
    {
     "name": "stdin",
     "output_type": "stream",
     "text": [
      "Enter the month =  December\n",
      "Enter the day =  15\n",
      "Enter the year 2000\n"
     ]
    },
    {
     "name": "stdout",
     "output_type": "stream",
     "text": [
      " December15, 2000\n"
     ]
    }
   ],
   "source": [
    "month = input(\"Enter the month = \")\n",
    "day = int(input(\"Enter the day = \"))\n",
    "year = int(input(\"Enter the year\"))\n",
    "\n",
    "date = f\" {month}{str(day)}, {str(year)}\"\n",
    "print(date)"
   ]
  },
  {
   "cell_type": "code",
   "execution_count": 16,
   "id": "0a8b52d6-bf49-49d9-b47e-32f8270eeb3b",
   "metadata": {},
   "outputs": [],
   "source": [
    "# . Write a program with a function that accepts a string from keyboard and create a new string after \n",
    "# converting character of each word capitalized. For instance, if the sentence is \"stop and smell the roses.\" \n",
    "# the output should be \"Stop And Smell The Roses\" "
   ]
  },
  {
   "cell_type": "code",
   "execution_count": 15,
   "id": "e170f607-d71d-42f6-bbbb-d68555ea7520",
   "metadata": {},
   "outputs": [
    {
     "name": "stdin",
     "output_type": "stream",
     "text": [
      "Enter the sentence =  stop and smell the roses\n"
     ]
    },
    {
     "name": "stdout",
     "output_type": "stream",
     "text": [
      "Stop And Smell The Roses\n"
     ]
    }
   ],
   "source": [
    "sentence = input(\"Enter the sentence = \")\n",
    "sentence = sentence.split()  \n",
    "capitalized_words = []  \n",
    "\n",
    "for i in sentence:\n",
    "    capitalized_words.append(i.capitalize())  \n",
    "\n",
    "result = ' '.join(capitalized_words)  \n",
    "print(result)  "
   ]
  },
  {
   "cell_type": "code",
   "execution_count": 17,
   "id": "b7bca2e8-06a0-4087-b035-46b0225430f5",
   "metadata": {},
   "outputs": [],
   "source": [
    "#  Find the sum of each row of matrix of size m x n. For example for the following matrix output will be \n",
    "# like this : \n",
    "# Sum of row 1 = 32 \n",
    "# Sum of row 2 = 31 \n",
    "# Sum of row 3 = 63 "
   ]
  },
  {
   "cell_type": "code",
   "execution_count": 18,
   "id": "b088bfad-389a-4d7b-b24b-b5ec45fb85e3",
   "metadata": {},
   "outputs": [
    {
     "name": "stdout",
     "output_type": "stream",
     "text": [
      "Total of Row 1 26\n",
      "Total of row 2 17\n",
      "Total of row 3 76\n"
     ]
    }
   ],
   "source": [
    "a = [2,1,7,16]\n",
    "b = [5,2,9,1]\n",
    "c = [8,8,18,42]\n",
    "total = 0\n",
    "for i in a:\n",
    "    total = total + i\n",
    "print(f\"Total of Row 1 {total}\")\n",
    "total = 0\n",
    "for i in b :\n",
    "    total = total + i\n",
    "print(f\"Total of row 2 {total}\")\n",
    "total = 0\n",
    "for i in c :\n",
    "    total = total + i\n",
    "print(f\"Total of row 3 {total}\")"
   ]
  },
  {
   "cell_type": "code",
   "execution_count": null,
   "id": "c83f7caf-5d27-4ef1-887e-0dd43f1ac852",
   "metadata": {},
   "outputs": [],
   "source": [
    "# Write a program to add two matrices of size n x m. "
   ]
  },
  {
   "cell_type": "code",
   "execution_count": 21,
   "id": "cd957dbe-7c38-4c17-a9e6-2b021f59a14d",
   "metadata": {},
   "outputs": [
    {
     "name": "stdout",
     "output_type": "stream",
     "text": [
      "74\n"
     ]
    }
   ],
   "source": [
    "n = 3 \n",
    "m = 4\n",
    "matrix = [\n",
    "    [2,1,7,12],\n",
    "    [5,8,9,5],\n",
    "    [8,3,10,4],\n",
    "    ]\n",
    "# result_matrix = []\n",
    "result = 0\n",
    "for i in range(n):\n",
    "    for y in range(m):\n",
    "        result += matrix[i][y]\n",
    "print(result)"
   ]
  },
  {
   "cell_type": "code",
   "execution_count": 22,
   "id": "9617a553-477d-4d9f-9c0e-a9b833adda47",
   "metadata": {},
   "outputs": [],
   "source": [
    "# Write a program to multiply two matrices"
   ]
  },
  {
   "cell_type": "code",
   "execution_count": 23,
   "id": "47d1c7c3-57ed-4a57-8777-651e2f73cc55",
   "metadata": {},
   "outputs": [
    {
     "name": "stdout",
     "output_type": "stream",
     "text": [
      "25147584000\n"
     ]
    }
   ],
   "source": [
    "n = 3 \n",
    "m = 4\n",
    "matrix = [\n",
    "    [2,11,7,12],\n",
    "    [5,2,9,15],\n",
    "    [8,3,10,42],\n",
    "    ]\n",
    "\n",
    "result = 1\n",
    "for i in range(n):\n",
    "    for y in range(m):\n",
    "        result *= matrix[i][y]\n",
    "print(result)"
   ]
  },
  {
   "cell_type": "code",
   "execution_count": null,
   "id": "ae7af303-c264-423c-a96f-97d466a7fc70",
   "metadata": {},
   "outputs": [],
   "source": []
  }
 ],
 "metadata": {
  "kernelspec": {
   "display_name": "Python 3 (ipykernel)",
   "language": "python",
   "name": "python3"
  },
  "language_info": {
   "codemirror_mode": {
    "name": "ipython",
    "version": 3
   },
   "file_extension": ".py",
   "mimetype": "text/x-python",
   "name": "python",
   "nbconvert_exporter": "python",
   "pygments_lexer": "ipython3",
   "version": "3.11.7"
  }
 },
 "nbformat": 4,
 "nbformat_minor": 5
}
