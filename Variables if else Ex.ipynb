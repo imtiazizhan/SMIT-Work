{
 "cells": [
  {
   "cell_type": "markdown",
   "id": "6bc84651-7cce-4cb5-9187-0ca7222565ee",
   "metadata": {},
   "source": [
    "# Topic: Variables"
   ]
  },
  {
   "cell_type": "code",
   "execution_count": 1,
   "id": "57a04c28-9bfe-462c-aee5-3938f3f526c8",
   "metadata": {},
   "outputs": [],
   "source": [
    "f_name = \"Ahmed Sajid\"\n",
    "age = \"24\"\n",
    "profession = \"Teacher\"\n",
    "eduction = \"BS Maths\"\n",
    "gradution_year = \"2024\"\n",
    "job_experience = \"2017\"\n",
    "height_inch = \"6.3\"\n",
    "weight_kg = \"75\"\n",
    "monthly_income_USD = \"2000\"\n"
   ]
  },
  {
   "cell_type": "code",
   "execution_count": 13,
   "id": "15be72ae-5e1a-460e-845a-90bc8375a321",
   "metadata": {},
   "outputs": [
    {
     "data": {
      "text/plain": [
       "'Ahmed Sajid24TeacherBS Maths'"
      ]
     },
     "execution_count": 13,
     "metadata": {},
     "output_type": "execute_result"
    }
   ],
   "source": [
    "f_name+age+profession+eduction"
   ]
  },
  {
   "cell_type": "code",
   "execution_count": 14,
   "id": "75cb58f9-5fba-4551-980e-3edf9156f789",
   "metadata": {},
   "outputs": [
    {
     "ename": "TypeError",
     "evalue": "can't multiply sequence by non-int of type 'float'",
     "output_type": "error",
     "traceback": [
      "\u001b[1;31m---------------------------------------------------------------------------\u001b[0m",
      "\u001b[1;31mTypeError\u001b[0m                                 Traceback (most recent call last)",
      "Cell \u001b[1;32mIn[14], line 1\u001b[0m\n\u001b[1;32m----> 1\u001b[0m monthly_income_pkr \u001b[38;5;241m=\u001b[39mmonthly_income_USD \u001b[38;5;241m*\u001b[39m \u001b[38;5;241m277.97\u001b[39m\n\u001b[0;32m      2\u001b[0m monthly_income_pkr\n",
      "\u001b[1;31mTypeError\u001b[0m: can't multiply sequence by non-int of type 'float'"
     ]
    }
   ],
   "source": [
    "monthly_income_pkr =monthly_income_USD * 277.97\n",
    "monthly_income_pkr"
   ]
  },
  {
   "cell_type": "code",
   "execution_count": 21,
   "id": "fe352b88-ef05-4b36-8eee-e918df9e6aee",
   "metadata": {},
   "outputs": [
    {
     "ename": "TypeError",
     "evalue": "'int' object is not callable",
     "output_type": "error",
     "traceback": [
      "\u001b[1;31m---------------------------------------------------------------------------\u001b[0m",
      "\u001b[1;31mTypeError\u001b[0m                                 Traceback (most recent call last)",
      "Cell \u001b[1;32mIn[21], line 9\u001b[0m\n\u001b[0;32m      6\u001b[0m area \u001b[38;5;241m=\u001b[39m length \u001b[38;5;241m*\u001b[39m width\n\u001b[0;32m      8\u001b[0m \u001b[38;5;66;03m# Print the result\u001b[39;00m\n\u001b[1;32m----> 9\u001b[0m \u001b[38;5;28mprint\u001b[39m(\u001b[38;5;124mf\u001b[39m\u001b[38;5;124m\"\u001b[39m\u001b[38;5;124mThe area of the rectangle is \u001b[39m\u001b[38;5;132;01m{\u001b[39;00marea\u001b[38;5;132;01m}\u001b[39;00m\u001b[38;5;124m square units.\u001b[39m\u001b[38;5;124m\"\u001b[39m)\n",
      "\u001b[1;31mTypeError\u001b[0m: 'int' object is not callable"
     ]
    }
   ],
   "source": [
    "# Input variables\n",
    "length = 10\n",
    "width = 5\n",
    "\n",
    "# Calculate area\n",
    "area = length * width\n",
    "\n",
    "# Print the result\n",
    "print(f\"The area of the rectangle is {area} square units.\")\n"
   ]
  },
  {
   "cell_type": "code",
   "execution_count": 24,
   "id": "c7cd5667-92cf-43b0-93d8-1d30535c3d42",
   "metadata": {},
   "outputs": [
    {
     "name": "stdin",
     "output_type": "stream",
     "text": [
      "Enter your age 22\n"
     ]
    },
    {
     "ename": "TypeError",
     "evalue": "'int' object is not callable",
     "output_type": "error",
     "traceback": [
      "\u001b[1;31m---------------------------------------------------------------------------\u001b[0m",
      "\u001b[1;31mTypeError\u001b[0m                                 Traceback (most recent call last)",
      "Cell \u001b[1;32mIn[24], line 5\u001b[0m\n\u001b[0;32m      3\u001b[0m     \u001b[38;5;28mprint\u001b[39m(\u001b[38;5;124m\"\u001b[39m\u001b[38;5;124mYou are a teenager\u001b[39m\u001b[38;5;124m\"\u001b[39m)\n\u001b[0;32m      4\u001b[0m \u001b[38;5;28;01melif\u001b[39;00m age\u001b[38;5;241m<\u001b[39m\u001b[38;5;241m30\u001b[39m:\n\u001b[1;32m----> 5\u001b[0m     \u001b[38;5;28mprint\u001b[39m(\u001b[38;5;124m\"\u001b[39m\u001b[38;5;124mYou are a young\u001b[39m\u001b[38;5;124m\"\u001b[39m)\n\u001b[0;32m      7\u001b[0m \u001b[38;5;28;01melif\u001b[39;00m age\u001b[38;5;241m<\u001b[39m\u001b[38;5;241m50\u001b[39m:\n\u001b[0;32m      8\u001b[0m     \u001b[38;5;28mprint\u001b[39m(\u001b[38;5;124m\"\u001b[39m\u001b[38;5;124mYou are a adult\u001b[39m\u001b[38;5;124m\"\u001b[39m)\n",
      "\u001b[1;31mTypeError\u001b[0m: 'int' object is not callable"
     ]
    }
   ],
   "source": [
    "age = float(input(\"Enter your age\"))\n",
    "if age <20:\n",
    "    print(\"You are a teenager\")\n",
    "elif age<30:\n",
    "    print(\"You are a young\")\n",
    "    \n",
    "elif age<50:\n",
    "    print(\"You are a adult\")\n",
    "    \n",
    "elif age<60:\n",
    "    print(\"You are a growup man\")\n",
    "    \n",
    "else:\n",
    "    print(\"You are old\")\n",
    "            "
   ]
  },
  {
   "cell_type": "code",
   "execution_count": 26,
   "id": "e58e5eda-814e-4c80-a23a-b128f4ab4d74",
   "metadata": {},
   "outputs": [
    {
     "name": "stdin",
     "output_type": "stream",
     "text": [
      "Please tell me your age:  19\n"
     ]
    },
    {
     "ename": "TypeError",
     "evalue": "'int' object is not callable",
     "output_type": "error",
     "traceback": [
      "\u001b[1;31m---------------------------------------------------------------------------\u001b[0m",
      "\u001b[1;31mTypeError\u001b[0m                                 Traceback (most recent call last)",
      "Cell \u001b[1;32mIn[26], line 3\u001b[0m\n\u001b[0;32m      1\u001b[0m age \u001b[38;5;241m=\u001b[39m \u001b[38;5;28mfloat\u001b[39m(\u001b[38;5;28minput\u001b[39m(\u001b[38;5;124m\"\u001b[39m\u001b[38;5;124mPlease tell me your age: \u001b[39m\u001b[38;5;124m\"\u001b[39m))\n\u001b[0;32m      2\u001b[0m \u001b[38;5;28;01mif\u001b[39;00m age \u001b[38;5;241m<\u001b[39m\u001b[38;5;241m20\u001b[39m:\n\u001b[1;32m----> 3\u001b[0m     \u001b[38;5;28mprint\u001b[39m(\u001b[38;5;124m\"\u001b[39m\u001b[38;5;124mYou are a teenager\u001b[39m\u001b[38;5;124m\"\u001b[39m)\n\u001b[0;32m      4\u001b[0m \u001b[38;5;28;01melif\u001b[39;00m age\u001b[38;5;241m<\u001b[39m \u001b[38;5;241m30\u001b[39m:\n\u001b[0;32m      5\u001b[0m    \u001b[38;5;28mprint\u001b[39m(\u001b[38;5;124m\"\u001b[39m\u001b[38;5;124mYou are a young\u001b[39m\u001b[38;5;124m\"\u001b[39m)\n",
      "\u001b[1;31mTypeError\u001b[0m: 'int' object is not callable"
     ]
    }
   ],
   "source": [
    " age = float(input(\"Please tell me your age: \"))\n",
    " if age <20:\n",
    "     print(\"You are a teenager\")\n",
    " elif age< 30:\n",
    "    print(\"You are a young\")\n",
    "elif age< 50:\n",
    "    print(\"You are a adult\")\n",
    "elif age <60:\n",
    "    print(\"You are a grownup man\")\n",
    " else:\n",
    "    print(\"You are a oldman\")"
   ]
  }
 ],
 "metadata": {
  "kernelspec": {
   "display_name": "Python 3 (ipykernel)",
   "language": "python",
   "name": "python3"
  },
  "language_info": {
   "codemirror_mode": {
    "name": "ipython",
    "version": 3
   },
   "file_extension": ".py",
   "mimetype": "text/x-python",
   "name": "python",
   "nbconvert_exporter": "python",
   "pygments_lexer": "ipython3",
   "version": "3.11.7"
  }
 },
 "nbformat": 4,
 "nbformat_minor": 5
}
