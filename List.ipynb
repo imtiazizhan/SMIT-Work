{
 "cells": [
  {
   "cell_type": "code",
   "execution_count": 1,
   "id": "ecbe838b-d0a0-40db-91e8-ac7f892cd8f4",
   "metadata": {},
   "outputs": [],
   "source": [
    "students = [\"Sudaim\", \"Ali Raza\", \"Humail\", \"Azanish\"]"
   ]
  },
  {
   "cell_type": "code",
   "execution_count": 2,
   "id": "75e58830-25b7-4ac1-ba6c-9ecd7de93a08",
   "metadata": {},
   "outputs": [
    {
     "data": {
      "text/plain": [
       "['Sudaim', 'Ali Raza', 'Humail', 'Azanish']"
      ]
     },
     "execution_count": 2,
     "metadata": {},
     "output_type": "execute_result"
    }
   ],
   "source": [
    "students"
   ]
  },
  {
   "cell_type": "code",
   "execution_count": 3,
   "id": "7aff5599-c445-4146-acf1-ddd1e525cd86",
   "metadata": {},
   "outputs": [
    {
     "name": "stdout",
     "output_type": "stream",
     "text": [
      "<class 'list'>\n"
     ]
    }
   ],
   "source": [
    "print(type(students))"
   ]
  },
  {
   "cell_type": "code",
   "execution_count": 6,
   "id": "fa2792a5-2003-48ce-a489-405f51fb2b35",
   "metadata": {},
   "outputs": [],
   "source": [
    "# accessing items from a list via incides\n",
    "students = [\"Sudaim\", \"Ali Raza\", \"Humail\", \"Azanish\"]\n",
    "#             0         1           2          3  "
   ]
  },
  {
   "cell_type": "code",
   "execution_count": 7,
   "id": "c41e6d47-3494-440e-bded-c4904d29d34c",
   "metadata": {},
   "outputs": [
    {
     "data": {
      "text/plain": [
       "'Sudaim'"
      ]
     },
     "execution_count": 7,
     "metadata": {},
     "output_type": "execute_result"
    }
   ],
   "source": [
    "students[0]"
   ]
  },
  {
   "cell_type": "code",
   "execution_count": 8,
   "id": "a9ed0412-3dbc-45a0-b7e1-45aeba333606",
   "metadata": {},
   "outputs": [
    {
     "data": {
      "text/plain": [
       "'Humail'"
      ]
     },
     "execution_count": 8,
     "metadata": {},
     "output_type": "execute_result"
    }
   ],
   "source": [
    "students[-2]"
   ]
  },
  {
   "cell_type": "markdown",
   "id": "1c33085d-d81e-4b64-af12-6e356d9e4014",
   "metadata": {},
   "source": [
    "# A list can hold multiple type of data"
   ]
  },
  {
   "cell_type": "code",
   "execution_count": 9,
   "id": "b6e29f80-e1e1-47d6-ade9-86491413d933",
   "metadata": {},
   "outputs": [],
   "source": [
    "python_class= ['students', 'trainer', 'True', '6', '9.6']"
   ]
  },
  {
   "cell_type": "code",
   "execution_count": 10,
   "id": "d1cfbba7-2f8e-4228-bccc-f1b237102d77",
   "metadata": {},
   "outputs": [],
   "source": [
    " lst = [1,2,3,4,5,6, [\"Sudaim\", \"Ali Raza\", \"Humail\", \"Azanish\"]]"
   ]
  },
  {
   "cell_type": "code",
   "execution_count": 11,
   "id": "a783da05-b1b0-4185-9987-067af0d71ebc",
   "metadata": {},
   "outputs": [
    {
     "data": {
      "text/plain": [
       "['Sudaim', 'Ali Raza', 'Humail', 'Azanish']"
      ]
     },
     "execution_count": 11,
     "metadata": {},
     "output_type": "execute_result"
    }
   ],
   "source": [
    "lst[6]"
   ]
  },
  {
   "cell_type": "code",
   "execution_count": 13,
   "id": "99713d29-6bf2-4de4-b63c-69655f674eb1",
   "metadata": {},
   "outputs": [
    {
     "data": {
      "text/plain": [
       "'Azanish'"
      ]
     },
     "execution_count": 13,
     "metadata": {},
     "output_type": "execute_result"
    }
   ],
   "source": [
    "lst[6][3]"
   ]
  },
  {
   "cell_type": "code",
   "execution_count": 15,
   "id": "6a7dd25f-7d6a-496b-95af-66efc60ad8d3",
   "metadata": {},
   "outputs": [
    {
     "data": {
      "text/plain": [
       "'z'"
      ]
     },
     "execution_count": 15,
     "metadata": {},
     "output_type": "execute_result"
    }
   ],
   "source": [
    "lst[6][3][-6]"
   ]
  },
  {
   "cell_type": "code",
   "execution_count": 16,
   "id": "40c1872d-50c5-4d8c-b841-e8aa0ee917cd",
   "metadata": {},
   "outputs": [
    {
     "name": "stdout",
     "output_type": "stream",
     "text": [
      "Help on list object:\n",
      "\n",
      "class list(object)\n",
      " |  list(iterable=(), /)\n",
      " |  \n",
      " |  Built-in mutable sequence.\n",
      " |  \n",
      " |  If no argument is given, the constructor creates a new empty list.\n",
      " |  The argument must be an iterable if specified.\n",
      " |  \n",
      " |  Methods defined here:\n",
      " |  \n",
      " |  __add__(self, value, /)\n",
      " |      Return self+value.\n",
      " |  \n",
      " |  __contains__(self, key, /)\n",
      " |      Return key in self.\n",
      " |  \n",
      " |  __delitem__(self, key, /)\n",
      " |      Delete self[key].\n",
      " |  \n",
      " |  __eq__(self, value, /)\n",
      " |      Return self==value.\n",
      " |  \n",
      " |  __ge__(self, value, /)\n",
      " |      Return self>=value.\n",
      " |  \n",
      " |  __getattribute__(self, name, /)\n",
      " |      Return getattr(self, name).\n",
      " |  \n",
      " |  __getitem__(...)\n",
      " |      x.__getitem__(y) <==> x[y]\n",
      " |  \n",
      " |  __gt__(self, value, /)\n",
      " |      Return self>value.\n",
      " |  \n",
      " |  __iadd__(self, value, /)\n",
      " |      Implement self+=value.\n",
      " |  \n",
      " |  __imul__(self, value, /)\n",
      " |      Implement self*=value.\n",
      " |  \n",
      " |  __init__(self, /, *args, **kwargs)\n",
      " |      Initialize self.  See help(type(self)) for accurate signature.\n",
      " |  \n",
      " |  __iter__(self, /)\n",
      " |      Implement iter(self).\n",
      " |  \n",
      " |  __le__(self, value, /)\n",
      " |      Return self<=value.\n",
      " |  \n",
      " |  __len__(self, /)\n",
      " |      Return len(self).\n",
      " |  \n",
      " |  __lt__(self, value, /)\n",
      " |      Return self<value.\n",
      " |  \n",
      " |  __mul__(self, value, /)\n",
      " |      Return self*value.\n",
      " |  \n",
      " |  __ne__(self, value, /)\n",
      " |      Return self!=value.\n",
      " |  \n",
      " |  __repr__(self, /)\n",
      " |      Return repr(self).\n",
      " |  \n",
      " |  __reversed__(self, /)\n",
      " |      Return a reverse iterator over the list.\n",
      " |  \n",
      " |  __rmul__(self, value, /)\n",
      " |      Return value*self.\n",
      " |  \n",
      " |  __setitem__(self, key, value, /)\n",
      " |      Set self[key] to value.\n",
      " |  \n",
      " |  __sizeof__(self, /)\n",
      " |      Return the size of the list in memory, in bytes.\n",
      " |  \n",
      " |  append(self, object, /)\n",
      " |      Append object to the end of the list.\n",
      " |  \n",
      " |  clear(self, /)\n",
      " |      Remove all items from list.\n",
      " |  \n",
      " |  copy(self, /)\n",
      " |      Return a shallow copy of the list.\n",
      " |  \n",
      " |  count(self, value, /)\n",
      " |      Return number of occurrences of value.\n",
      " |  \n",
      " |  extend(self, iterable, /)\n",
      " |      Extend list by appending elements from the iterable.\n",
      " |  \n",
      " |  index(self, value, start=0, stop=9223372036854775807, /)\n",
      " |      Return first index of value.\n",
      " |      \n",
      " |      Raises ValueError if the value is not present.\n",
      " |  \n",
      " |  insert(self, index, object, /)\n",
      " |      Insert object before index.\n",
      " |  \n",
      " |  pop(self, index=-1, /)\n",
      " |      Remove and return item at index (default last).\n",
      " |      \n",
      " |      Raises IndexError if list is empty or index is out of range.\n",
      " |  \n",
      " |  remove(self, value, /)\n",
      " |      Remove first occurrence of value.\n",
      " |      \n",
      " |      Raises ValueError if the value is not present.\n",
      " |  \n",
      " |  reverse(self, /)\n",
      " |      Reverse *IN PLACE*.\n",
      " |  \n",
      " |  sort(self, /, *, key=None, reverse=False)\n",
      " |      Sort the list in ascending order and return None.\n",
      " |      \n",
      " |      The sort is in-place (i.e. the list itself is modified) and stable (i.e. the\n",
      " |      order of two equal elements is maintained).\n",
      " |      \n",
      " |      If a key function is given, apply it once to each list item and sort them,\n",
      " |      ascending or descending, according to their function values.\n",
      " |      \n",
      " |      The reverse flag can be set to sort in descending order.\n",
      " |  \n",
      " |  ----------------------------------------------------------------------\n",
      " |  Class methods defined here:\n",
      " |  \n",
      " |  __class_getitem__(...) from builtins.type\n",
      " |      See PEP 585\n",
      " |  \n",
      " |  ----------------------------------------------------------------------\n",
      " |  Static methods defined here:\n",
      " |  \n",
      " |  __new__(*args, **kwargs) from builtins.type\n",
      " |      Create and return a new object.  See help(type) for accurate signature.\n",
      " |  \n",
      " |  ----------------------------------------------------------------------\n",
      " |  Data and other attributes defined here:\n",
      " |  \n",
      " |  __hash__ = None\n",
      "\n"
     ]
    }
   ],
   "source": [
    "help(lst)"
   ]
  },
  {
   "cell_type": "markdown",
   "id": "062e1c9f-50d8-427a-97cd-596bbe8bc7e9",
   "metadata": {},
   "source": [
    "# Adding members in a lsit"
   ]
  },
  {
   "cell_type": "code",
   "execution_count": 19,
   "id": "2f75ae8d-0565-4b22-89e1-8750f2e72fbb",
   "metadata": {},
   "outputs": [
    {
     "name": "stdout",
     "output_type": "stream",
     "text": [
      "['Sudaim', 'Ali Raza', 'Humail', 'Azanish', 'Zunaira']\n"
     ]
    }
   ],
   "source": [
    "# add a new member in list at the end\n",
    "print(students)\n",
    "students.append(\"Zunaira\")\n"
   ]
  },
  {
   "cell_type": "code",
   "execution_count": 20,
   "id": "b068076c-2451-460c-bcee-7245e51f96de",
   "metadata": {},
   "outputs": [
    {
     "data": {
      "text/plain": [
       "['Sudaim', 'Ali Raza', 'Humail', 'Azanish', 'Zunaira', 'Zunaira']"
      ]
     },
     "execution_count": 20,
     "metadata": {},
     "output_type": "execute_result"
    }
   ],
   "source": [
    "students"
   ]
  },
  {
   "cell_type": "code",
   "execution_count": 21,
   "id": "cc159c37-ae2b-4c1f-9b50-381740b60b87",
   "metadata": {},
   "outputs": [
    {
     "ename": "TypeError",
     "evalue": "list.append() takes exactly one argument (2 given)",
     "output_type": "error",
     "traceback": [
      "\u001b[1;31m---------------------------------------------------------------------------\u001b[0m",
      "\u001b[1;31mTypeError\u001b[0m                                 Traceback (most recent call last)",
      "Cell \u001b[1;32mIn[21], line 1\u001b[0m\n\u001b[1;32m----> 1\u001b[0m students\u001b[38;5;241m.\u001b[39mappend(\u001b[38;5;124m'\u001b[39m\u001b[38;5;124mKashmala\u001b[39m\u001b[38;5;124m'\u001b[39m, \u001b[38;5;124m'\u001b[39m\u001b[38;5;124mZohra\u001b[39m\u001b[38;5;124m'\u001b[39m)\n",
      "\u001b[1;31mTypeError\u001b[0m: list.append() takes exactly one argument (2 given)"
     ]
    }
   ],
   "source": [
    "students.append('Kashmala', 'Zohra')"
   ]
  },
  {
   "cell_type": "code",
   "execution_count": 22,
   "id": "ac47f70d-4e7f-41d2-8b57-f09f642a2ec0",
   "metadata": {},
   "outputs": [],
   "source": [
    "students.insert(2, \"Zohra\")"
   ]
  },
  {
   "cell_type": "code",
   "execution_count": 23,
   "id": "845d5162-d8b0-4eef-bffe-bc15b030da44",
   "metadata": {},
   "outputs": [
    {
     "data": {
      "text/plain": [
       "['Sudaim', 'Ali Raza', 'Zohra', 'Humail', 'Azanish', 'Zunaira', 'Zunaira']"
      ]
     },
     "execution_count": 23,
     "metadata": {},
     "output_type": "execute_result"
    }
   ],
   "source": [
    "students"
   ]
  },
  {
   "cell_type": "code",
   "execution_count": 26,
   "id": "3278e8b2-8f6b-4a7f-ac08-437ef6ff0c0c",
   "metadata": {},
   "outputs": [],
   "source": [
    "friends =['Ahmed', 'Baseer', 'Areeba']"
   ]
  },
  {
   "cell_type": "code",
   "execution_count": 27,
   "id": "5dbbe37f-4048-4740-84c4-38dde097b8a5",
   "metadata": {},
   "outputs": [],
   "source": [
    "students.append(friends)"
   ]
  },
  {
   "cell_type": "code",
   "execution_count": 28,
   "id": "4f3b7ec4-35eb-4ab5-a7d7-07c779795e21",
   "metadata": {},
   "outputs": [
    {
     "data": {
      "text/plain": [
       "['Sudaim',\n",
       " 'Ali Raza',\n",
       " 'Zohra',\n",
       " 'Kashmala',\n",
       " 'Humail',\n",
       " 'Azanish',\n",
       " 'Zunaira',\n",
       " 'Zunaira',\n",
       " ['Ahmed', 'Baseer', 'Areeba']]"
      ]
     },
     "execution_count": 28,
     "metadata": {},
     "output_type": "execute_result"
    }
   ],
   "source": [
    "students"
   ]
  },
  {
   "cell_type": "code",
   "execution_count": 29,
   "id": "f4fd81c5-1e38-43e5-bbc9-e1d9ada348ab",
   "metadata": {},
   "outputs": [
    {
     "data": {
      "text/plain": [
       "['Sudaim',\n",
       " 'Ali Raza',\n",
       " 'Zohra',\n",
       " 'Kashmala',\n",
       " 'Humail',\n",
       " 'Azanish',\n",
       " 'Zunaira',\n",
       " 'Zunaira']"
      ]
     },
     "execution_count": 29,
     "metadata": {},
     "output_type": "execute_result"
    }
   ],
   "source": [
    "del students[8]\n",
    "students"
   ]
  },
  {
   "cell_type": "code",
   "execution_count": 34,
   "id": "80e545a7-7139-4147-9ef8-395d1d49c748",
   "metadata": {},
   "outputs": [],
   "source": [
    "# perment change\n",
    "students.extend(friends)"
   ]
  },
  {
   "cell_type": "code",
   "execution_count": 31,
   "id": "be872c67-4123-4cfd-8108-1a01580756e8",
   "metadata": {},
   "outputs": [
    {
     "data": {
      "text/plain": [
       "['Sudaim',\n",
       " 'Ali Raza',\n",
       " 'Zohra',\n",
       " 'Kashmala',\n",
       " 'Humail',\n",
       " 'Azanish',\n",
       " 'Zunaira',\n",
       " 'Zunaira',\n",
       " 'Ahmed',\n",
       " 'Baseer',\n",
       " 'Areeba']"
      ]
     },
     "execution_count": 31,
     "metadata": {},
     "output_type": "execute_result"
    }
   ],
   "source": [
    "students"
   ]
  },
  {
   "cell_type": "code",
   "execution_count": 32,
   "id": "5e8d9f40-a634-4b5d-92b6-9de8c62ec681",
   "metadata": {},
   "outputs": [],
   "source": [
    "relatives = ['Ahmed', 'Faizan', 'Shayan']"
   ]
  },
  {
   "cell_type": "code",
   "execution_count": 33,
   "id": "d2958e20-ee65-43a3-b17a-0e96160864c5",
   "metadata": {},
   "outputs": [
    {
     "data": {
      "text/plain": [
       "['Sudaim',\n",
       " 'Ali Raza',\n",
       " 'Zohra',\n",
       " 'Kashmala',\n",
       " 'Humail',\n",
       " 'Azanish',\n",
       " 'Zunaira',\n",
       " 'Zunaira',\n",
       " 'Ahmed',\n",
       " 'Baseer',\n",
       " 'Areeba',\n",
       " 'Ahmed',\n",
       " 'Faizan',\n",
       " 'Shayan']"
      ]
     },
     "execution_count": 33,
     "metadata": {},
     "output_type": "execute_result"
    }
   ],
   "source": [
    "students+relatives"
   ]
  },
  {
   "cell_type": "markdown",
   "id": "7ee30532-0e21-438a-b9c7-bda83905a3ab",
   "metadata": {},
   "source": [
    "# Removing Elemnets from a list\n",
    "      -del\n",
    "      -remove()\n",
    "      - pop()\n",
    "      - clear()"
   ]
  },
  {
   "cell_type": "code",
   "execution_count": 36,
   "id": "554cf9dd-8760-4463-bff4-812437b7c821",
   "metadata": {},
   "outputs": [],
   "source": [
    "lst = [1,2,3,4,5,6, [\"Sudaim\", \"Ali Raza\", \"Humail\", \"Azanish\"]]"
   ]
  },
  {
   "cell_type": "code",
   "execution_count": 37,
   "id": "5f8be2bf-5d4d-491f-af84-c9318d59cb21",
   "metadata": {},
   "outputs": [
    {
     "ename": "IndexError",
     "evalue": "list index out of range",
     "output_type": "error",
     "traceback": [
      "\u001b[1;31m---------------------------------------------------------------------------\u001b[0m",
      "\u001b[1;31mIndexError\u001b[0m                                Traceback (most recent call last)",
      "Cell \u001b[1;32mIn[37], line 2\u001b[0m\n\u001b[0;32m      1\u001b[0m \u001b[38;5;66;03m# del deletes a value via index\u001b[39;00m\n\u001b[1;32m----> 2\u001b[0m lst[\u001b[38;5;241m7\u001b[39m]\n",
      "\u001b[1;31mIndexError\u001b[0m: list index out of range"
     ]
    }
   ],
   "source": [
    "# del deletes a value via index\n",
    "lst[7]"
   ]
  },
  {
   "cell_type": "code",
   "execution_count": 38,
   "id": "3c2af631-3809-41c5-b479-4d5fb7ea1d20",
   "metadata": {},
   "outputs": [
    {
     "data": {
      "text/plain": [
       "[1, 2, 3, 4, 5, 6]"
      ]
     },
     "execution_count": 38,
     "metadata": {},
     "output_type": "execute_result"
    }
   ],
   "source": [
    "del lst[6]\n",
    "lst"
   ]
  },
  {
   "cell_type": "code",
   "execution_count": 40,
   "id": "b5d5d6b8-e741-4804-963d-a7b2106b967b",
   "metadata": {},
   "outputs": [],
   "source": [
    "lst.remove(5)"
   ]
  },
  {
   "cell_type": "code",
   "execution_count": 41,
   "id": "0bb27ea9-adc4-44ca-a7e6-a905ca6ccba9",
   "metadata": {},
   "outputs": [
    {
     "data": {
      "text/plain": [
       "[1, 2, 3, 4, 6]"
      ]
     },
     "execution_count": 41,
     "metadata": {},
     "output_type": "execute_result"
    }
   ],
   "source": [
    "lst"
   ]
  },
  {
   "cell_type": "code",
   "execution_count": 42,
   "id": "0969d2bf-fbb2-4a65-b83d-1c02238392c6",
   "metadata": {},
   "outputs": [
    {
     "data": {
      "text/plain": [
       "['Sudaim',\n",
       " 'Ali Raza',\n",
       " 'Zohra',\n",
       " 'Kashmala',\n",
       " 'Humail',\n",
       " 'Azanish',\n",
       " 'Zunaira',\n",
       " 'Zunaira',\n",
       " 'Ahmed',\n",
       " 'Baseer',\n",
       " 'Areeba']"
      ]
     },
     "execution_count": 42,
     "metadata": {},
     "output_type": "execute_result"
    }
   ],
   "source": [
    "['Sudaim',\n",
    " 'Ali Raza',\n",
    " 'Zohra',\n",
    " 'Kashmala',\n",
    " 'Humail',\n",
    " 'Azanish',\n",
    " 'Zunaira',\n",
    " 'Zunaira',\n",
    " 'Ahmed',\n",
    " 'Baseer',\n",
    " 'Areeba']"
   ]
  },
  {
   "cell_type": "code",
   "execution_count": 43,
   "id": "b0e49396-ad5a-4947-bbde-7d828c36a091",
   "metadata": {},
   "outputs": [
    {
     "data": {
      "text/plain": [
       "'Areeba'"
      ]
     },
     "execution_count": 43,
     "metadata": {},
     "output_type": "execute_result"
    }
   ],
   "source": [
    "students.pop()"
   ]
  },
  {
   "cell_type": "code",
   "execution_count": 44,
   "id": "4fc6e97f-6fd8-4e2c-9c1f-e1d18a29dcbd",
   "metadata": {},
   "outputs": [
    {
     "data": {
      "text/plain": [
       "['Sudaim',\n",
       " 'Ali Raza',\n",
       " 'Zohra',\n",
       " 'Kashmala',\n",
       " 'Humail',\n",
       " 'Azanish',\n",
       " 'Zunaira',\n",
       " 'Zunaira',\n",
       " 'Ahmed',\n",
       " 'Baseer',\n",
       " 'Areeba',\n",
       " 'Ahmed',\n",
       " 'Baseer']"
      ]
     },
     "execution_count": 44,
     "metadata": {},
     "output_type": "execute_result"
    }
   ],
   "source": [
    "students"
   ]
  },
  {
   "cell_type": "code",
   "execution_count": 46,
   "id": "b38127c8-bff3-401d-8d8a-f81748e93bd1",
   "metadata": {},
   "outputs": [],
   "source": [
    "popped_value = students.pop()"
   ]
  },
  {
   "cell_type": "code",
   "execution_count": 47,
   "id": "11350acf-c36d-4310-8432-d68a8036aeaa",
   "metadata": {},
   "outputs": [
    {
     "data": {
      "text/plain": [
       "'Baseer'"
      ]
     },
     "execution_count": 47,
     "metadata": {},
     "output_type": "execute_result"
    }
   ],
   "source": [
    "popped_value"
   ]
  },
  {
   "cell_type": "code",
   "execution_count": 48,
   "id": "424f615b-8a5c-4ed9-9757-6e0335bb4c50",
   "metadata": {},
   "outputs": [
    {
     "data": {
      "text/plain": [
       "'Kashmala'"
      ]
     },
     "execution_count": 48,
     "metadata": {},
     "output_type": "execute_result"
    }
   ],
   "source": [
    "students.pop(3)"
   ]
  },
  {
   "cell_type": "code",
   "execution_count": 49,
   "id": "3dfd8e20-d105-4161-a43e-64be2212c82e",
   "metadata": {},
   "outputs": [],
   "source": [
    "students.clear()"
   ]
  },
  {
   "cell_type": "code",
   "execution_count": 7,
   "id": "d593417a-5cdf-4a0a-874b-9000b1581f6a",
   "metadata": {},
   "outputs": [],
   "source": [
    "cities= [\"Islamabad\", \"Karachi\", \"Lahore\", \"Faisalabad\"]"
   ]
  },
  {
   "cell_type": "code",
   "execution_count": 8,
   "id": "aaddcab6-87c6-496e-8499-1ec7e66bf79f",
   "metadata": {},
   "outputs": [
    {
     "name": "stdout",
     "output_type": "stream",
     "text": [
      "<class 'list'>\n"
     ]
    }
   ],
   "source": [
    "print(type(cities))"
   ]
  },
  {
   "cell_type": "code",
   "execution_count": 9,
   "id": "1fdcaa4e-1fe2-4038-a33e-84a2cdb23d40",
   "metadata": {},
   "outputs": [
    {
     "data": {
      "text/plain": [
       "'Faisalabad'"
      ]
     },
     "execution_count": 9,
     "metadata": {},
     "output_type": "execute_result"
    }
   ],
   "source": [
    "cities[3]"
   ]
  },
  {
   "cell_type": "code",
   "execution_count": 15,
   "id": "be3666e5-4718-4e21-bbaa-362a54fa275a",
   "metadata": {},
   "outputs": [
    {
     "data": {
      "text/plain": [
       "'i'"
      ]
     },
     "execution_count": 15,
     "metadata": {},
     "output_type": "execute_result"
    }
   ],
   "source": [
    "cities [-3][6]"
   ]
  },
  {
   "cell_type": "code",
   "execution_count": 24,
   "id": "5af4c04a-4962-4388-9a93-8d54764162be",
   "metadata": {},
   "outputs": [
    {
     "data": {
      "text/plain": [
       "['Islamabad', 'Karachi', 'Lahore', 'Faisalabad']"
      ]
     },
     "execution_count": 24,
     "metadata": {},
     "output_type": "execute_result"
    }
   ],
   "source": [
    "cities[:4]"
   ]
  },
  {
   "cell_type": "code",
   "execution_count": 16,
   "id": "c290b1bd-53cc-49bb-97f6-a255d855eabe",
   "metadata": {},
   "outputs": [],
   "source": [
    "cities.append(\"Multan\")"
   ]
  },
  {
   "cell_type": "code",
   "execution_count": 17,
   "id": "39c9b6b9-fcb0-4770-b3dc-f8b15a9a6ff8",
   "metadata": {},
   "outputs": [
    {
     "data": {
      "text/plain": [
       "['Islamabad', 'Karachi', 'Lahore', 'Faisalabad', 'Multan']"
      ]
     },
     "execution_count": 17,
     "metadata": {},
     "output_type": "execute_result"
    }
   ],
   "source": [
    "cities"
   ]
  },
  {
   "cell_type": "code",
   "execution_count": 25,
   "id": "d5fe844a-e750-4acd-a94d-d11e2b853cfe",
   "metadata": {},
   "outputs": [],
   "source": [
    "cities.insert(2, \"Sialkot\")"
   ]
  },
  {
   "cell_type": "code",
   "execution_count": 26,
   "id": "efa73c7c-d024-4032-bc84-f1d3219d4208",
   "metadata": {},
   "outputs": [
    {
     "data": {
      "text/plain": [
       "['Islamabad', 'Karachi', 'Sialkot', 'Lahore', 'Faisalabad', 'Multan']"
      ]
     },
     "execution_count": 26,
     "metadata": {},
     "output_type": "execute_result"
    }
   ],
   "source": [
    "cities"
   ]
  },
  {
   "cell_type": "code",
   "execution_count": 27,
   "id": "6398cd3c-7c71-4647-a422-4a78437b099c",
   "metadata": {},
   "outputs": [],
   "source": [
    "countries= [\"England\", \"Newzeland\", \"Canada\"]"
   ]
  },
  {
   "cell_type": "code",
   "execution_count": 28,
   "id": "eb4b9346-a710-435d-8457-3dc29b05f4af",
   "metadata": {},
   "outputs": [],
   "source": [
    "cities.append(countries)"
   ]
  },
  {
   "cell_type": "code",
   "execution_count": 29,
   "id": "5d9d70a8-963e-4dae-b77a-81d46d3c184e",
   "metadata": {},
   "outputs": [
    {
     "data": {
      "text/plain": [
       "['Islamabad',\n",
       " 'Karachi',\n",
       " 'Sialkot',\n",
       " 'Lahore',\n",
       " 'Faisalabad',\n",
       " 'Multan',\n",
       " ['England', 'Newzeland', 'Canada']]"
      ]
     },
     "execution_count": 29,
     "metadata": {},
     "output_type": "execute_result"
    }
   ],
   "source": [
    "cities"
   ]
  },
  {
   "cell_type": "code",
   "execution_count": 31,
   "id": "ccc46f89-cd0a-40f9-a216-fe9f0e0e46c2",
   "metadata": {},
   "outputs": [],
   "source": [
    "del cities[6]"
   ]
  },
  {
   "cell_type": "code",
   "execution_count": 32,
   "id": "076db324-c29b-4881-8627-3f6c8a7d6872",
   "metadata": {},
   "outputs": [
    {
     "data": {
      "text/plain": [
       "['Islamabad', 'Karachi', 'Sialkot', 'Lahore', 'Faisalabad', 'Multan']"
      ]
     },
     "execution_count": 32,
     "metadata": {},
     "output_type": "execute_result"
    }
   ],
   "source": [
    "cities"
   ]
  },
  {
   "cell_type": "code",
   "execution_count": 36,
   "id": "213cfbdb-afff-4a65-8213-69c02df0de3c",
   "metadata": {},
   "outputs": [],
   "source": [
    "cities.extend(countries)"
   ]
  },
  {
   "cell_type": "code",
   "execution_count": 37,
   "id": "33cc789b-4800-4ce5-be3f-56711e0e7b3e",
   "metadata": {},
   "outputs": [
    {
     "data": {
      "text/plain": [
       "['Islamabad',\n",
       " 'Karachi',\n",
       " 'Sialkot',\n",
       " 'Lahore',\n",
       " 'Faisalabad',\n",
       " 'Multan',\n",
       " 'England',\n",
       " 'Newzeland',\n",
       " 'Canada',\n",
       " 'Islamabad',\n",
       " 'Karachi',\n",
       " 'Sialkot',\n",
       " 'Lahore',\n",
       " 'Faisalabad',\n",
       " 'Multan',\n",
       " 'England',\n",
       " 'Newzeland',\n",
       " 'Canada',\n",
       " 'England',\n",
       " 'Newzeland',\n",
       " 'Canada']"
      ]
     },
     "execution_count": 37,
     "metadata": {},
     "output_type": "execute_result"
    }
   ],
   "source": [
    "cities"
   ]
  }
 ],
 "metadata": {
  "kernelspec": {
   "display_name": "Python 3 (ipykernel)",
   "language": "python",
   "name": "python3"
  },
  "language_info": {
   "codemirror_mode": {
    "name": "ipython",
    "version": 3
   },
   "file_extension": ".py",
   "mimetype": "text/x-python",
   "name": "python",
   "nbconvert_exporter": "python",
   "pygments_lexer": "ipython3",
   "version": "3.11.7"
  }
 },
 "nbformat": 4,
 "nbformat_minor": 5
}
