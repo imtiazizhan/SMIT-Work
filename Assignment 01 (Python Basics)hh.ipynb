{
 "cells": [
  {
   "cell_type": "markdown",
   "metadata": {},
   "source": [
    "# Part -1 Python Basics (Variables)"
   ]
  },
  {
   "cell_type": "markdown",
   "metadata": {},
   "source": [
    "1. Print Your Name with your Father name and Date of birth using suitable escape sequence charactor"
   ]
  },
  {
   "cell_type": "code",
   "execution_count": 5,
   "metadata": {},
   "outputs": [
    {
     "name": "stdout",
     "output_type": "stream",
     "text": [
      "Name: Abdul Haseeb Qureshi\n",
      "Father Name: Muhammad Yousuf\n",
      "Date of Birth: 16/03/1994\n"
     ]
    }
   ],
   "source": [
    "# Write your code here\n",
    "print(\"Name: Abdul Haseeb Qureshi\\nFather Name: Muhammad Yousuf\\nDate of Birth: 16/03/1994\")"
   ]
  },
  {
   "cell_type": "markdown",
   "metadata": {},
   "source": [
    "2. Write your small bio using variables and print it using print function"
   ]
  },
  {
   "cell_type": "code",
   "execution_count": 10,
   "metadata": {},
   "outputs": [
    {
     "name": "stdout",
     "output_type": "stream",
     "text": [
      "My name is Abdul Haseeb Qureshi, My father's name is Muhammad Yousuf, My Date of birth is 16th March 1994, I am currently having a job as a Teacher, in Sindh Education and litracy Department.\n"
     ]
    }
   ],
   "source": [
    "# Write your code here\n",
    "name = \"Abdul Haseeb Qureshi\"\n",
    "f_name = \"Muhammad Yousuf\"\n",
    "dob = \"16th March 1994\"\n",
    "job = \"Teacher\"\n",
    "department = \"Sindh Education and litracy Department\"\n",
    "bio = (f\"My name is {name}, My father's name is {f_name}, My Date of birth is {dob}, I am currently having a job as a {job}, in {department}.\")\n",
    "print(bio)\n"
   ]
  },
  {
   "cell_type": "markdown",
   "metadata": {},
   "source": [
    "3. Write a program in which use all the operators we can use in Python"
   ]
  },
  {
   "cell_type": "code",
   "execution_count": 2,
   "metadata": {},
   "outputs": [
    {
     "name": "stdout",
     "output_type": "stream",
     "text": [
      "Addition Operator\n",
      "x+y = 13\n",
      "Subtraction Operator\n",
      "x-y = 7\n",
      "Multiplication Operator\n",
      "x*y = 30\n",
      "Division Operator\n",
      "x/y = 3.3333333333333335\n",
      "Floor Division Operator\n",
      "x//y = 3\n",
      "Modulus Operator\n",
      "x%y = 1\n",
      "Exponential Operator\n",
      "x**y = 1000\n",
      "Comparison Operators:\n",
      "x = 10, y = 3\n",
      "x == x: False\n",
      "x != y: True\n",
      "x > y: True\n",
      "x < y: False\n",
      "x >= y: True\n",
      "x <= y: False\n",
      "Logical Operators:\n",
      "x = True, y = False\n",
      "x and y = False\n",
      "x or y = True\n",
      "not x = False\n",
      "not y = True\n"
     ]
    }
   ],
   "source": [
    "# Write your code here\n",
    "#Artihmetic Operators\n",
    "x = 10\n",
    "y = 3\n",
    "print (\"Addition Operator\")\n",
    "print (f\"x+y = {x+y}\")\n",
    "\n",
    "print (\"Subtraction Operator\")\n",
    "print (f\"x-y = {x-y}\")\n",
    "\n",
    "print (\"Multiplication Operator\")\n",
    "print (f\"x*y = {x*y}\")\n",
    "\n",
    "print (\"Division Operator\")\n",
    "print (f\"x/y = {x/y}\")\n",
    "\n",
    "print (\"Floor Division Operator\")\n",
    "print (f\"x//y = {x//y}\")\n",
    "\n",
    "print (\"Modulus Operator\")\n",
    "print (f\"x%y = {x%y}\")\n",
    "\n",
    "print (\"Exponential Operator\")\n",
    "print (f\"x**y = {x**y}\")\n",
    "\n",
    "print(\"Comparison Operators:\")\n",
    "print(f\"x = {x}, y = {y}\")\n",
    "print(f\"x == x: {x == y}\")  # Equal\n",
    "print(f\"x != y: {x != y}\")  # Not equal\n",
    "print(f\"x > y: {x > y}\")    # Greater than\n",
    "print(f\"x < y: {x < y}\")    # Less than\n",
    "print(f\"x >= y: {x >= y}\")  # Greater than or equal to\n",
    "print(f\"x <= y: {x <= y}\")  # Less than or equal to\n",
    "\n",
    "# Logical Operators\n",
    "x = True\n",
    "y = False\n",
    "\n",
    "print(\"Logical Operators:\")\n",
    "print(f\"x = {x}, y = {y}\")\n",
    "print(f\"x and y = {x and y}\")    # Logical AND\n",
    "print(f\"x or y = {x or y}\")      # Logical OR\n",
    "print(f\"not x = {not x}\")        # Logical NOT\n",
    "print(f\"not y = {not y}\")        # Logical NOT\n",
    "\n",
    "\n"
   ]
  },
  {
   "cell_type": "markdown",
   "metadata": {},
   "source": [
    "4. Completes the following steps of small task:\n",
    "    - Mention Marks of English , Islamiat and Maths out of 100 in 3 different variables\n",
    "    - Mention Variable of Total Marks and assign 300 to it\n",
    "    - Calculate Percentage"
   ]
  },
  {
   "cell_type": "code",
   "execution_count": 46,
   "metadata": {},
   "outputs": [
    {
     "name": "stdout",
     "output_type": "stream",
     "text": [
      "you got 53.0 percentage.\n"
     ]
    }
   ],
   "source": [
    "# Write your code here\n",
    "English = 70\n",
    "Islamiat = 40\n",
    "Maths = 50\n",
    "Total = 300\n",
    "Obtained_Total = English + Islamiat + Maths\n",
    "x = round((Obtained_Total/Total)*100,0)\n",
    "print(f\"you got {x} percentage.\")"
   ]
  },
  {
   "cell_type": "markdown",
   "metadata": {},
   "source": [
    "# Part -2 Python Basics (Conditional Statements)"
   ]
  },
  {
   "cell_type": "markdown",
   "metadata": {},
   "source": [
    "1) A company decided to give bonus of 5% to employee if his/her year of service is more than 5 years.\n",
    "Ask user for their salary and year of service and print the net bonus amount."
   ]
  },
  {
   "cell_type": "code",
   "execution_count": 14,
   "metadata": {},
   "outputs": [
    {
     "name": "stdin",
     "output_type": "stream",
     "text": [
      "What is your current Salary?  100\n",
      "How many years your service has been with this company?  6\n"
     ]
    },
    {
     "name": "stdout",
     "output_type": "stream",
     "text": [
      "your net bonous on salary will be = 5.0\n"
     ]
    }
   ],
   "source": [
    "#Type your code here\n",
    "salary = int(input(\"What is your current Salary? \"))\n",
    "service = int(input(\"How many years your service has been with this company? \" ))\n",
    "if service > 5:\n",
    "    increment = salary*0.05\n",
    "    print(f\"your net bonous on salary will be = {increment}\")\n",
    "else:\n",
    "    print(\"sorry you are not eligible for bonus of this year!\")\n",
    "    "
   ]
  },
  {
   "cell_type": "markdown",
   "metadata": {},
   "source": [
    "\n",
    "2) Write a program to check whether a person is eligible for voting or not. (accept age from user) if age is greater than 17 eligible otherwise not eligible"
   ]
  },
  {
   "cell_type": "code",
   "execution_count": 16,
   "metadata": {},
   "outputs": [
    {
     "name": "stdin",
     "output_type": "stream",
     "text": [
      "What is your age?  18\n"
     ]
    },
    {
     "name": "stdout",
     "output_type": "stream",
     "text": [
      "you are eligible to vote\n"
     ]
    }
   ],
   "source": [
    "#Type your code here\n",
    "age = int(input(\"What is your age? \"))\n",
    "if age >17:\n",
    "    print(\"you are eligible to vote\")\n",
    "else:\n",
    "    print(\"you are not eligible to vote\")"
   ]
  },
  {
   "cell_type": "markdown",
   "metadata": {},
   "source": [
    "\n",
    "3) Write a program to check whether a number entered by user is even or odd."
   ]
  },
  {
   "cell_type": "code",
   "execution_count": 18,
   "metadata": {},
   "outputs": [
    {
     "name": "stdin",
     "output_type": "stream",
     "text": [
      "Write a number you want to check:  22\n"
     ]
    },
    {
     "name": "stdout",
     "output_type": "stream",
     "text": [
      "It is an even number\n"
     ]
    }
   ],
   "source": [
    "#Type your code here\n",
    "num = int(input(\"Write a number you want to check: \"))\n",
    "if num%2==0:\n",
    "    print(\"It is an even number\")\n",
    "else:\n",
    "    print(\"It is an odd number\")"
   ]
  },
  {
   "cell_type": "markdown",
   "metadata": {},
   "source": [
    "4) Write a program to check whether a number is divisible by 7 or not.\n",
    "Show Answer"
   ]
  },
  {
   "cell_type": "code",
   "execution_count": 20,
   "metadata": {},
   "outputs": [
    {
     "name": "stdin",
     "output_type": "stream",
     "text": [
      "Write a number you want to check:  43\n"
     ]
    },
    {
     "name": "stdout",
     "output_type": "stream",
     "text": [
      "It is not divisible by 7\n"
     ]
    }
   ],
   "source": [
    "#Type your code here\n",
    "num = int(input(\"Write a number you want to check: \"))\n",
    "if num%7==0:\n",
    "    print(\"It is divisible by 7\")\n",
    "else:\n",
    "    print(\"It is not divisible by 7\")"
   ]
  },
  {
   "cell_type": "markdown",
   "metadata": {},
   "source": [
    "5) Write a program to display \n",
    "\"Hello\" if a number entered by user is a multiple of five , otherwise print \"Bye\"."
   ]
  },
  {
   "cell_type": "code",
   "execution_count": 22,
   "metadata": {},
   "outputs": [
    {
     "name": "stdin",
     "output_type": "stream",
     "text": [
      "Write a number you want to check:  23\n"
     ]
    },
    {
     "name": "stdout",
     "output_type": "stream",
     "text": [
      "Bye\n"
     ]
    }
   ],
   "source": [
    "#Type your code here\n",
    "num = int(input(\"Write a number you want to check: \"))\n",
    "if num%5==0:\n",
    "    print(\"Hello\")\n",
    "else:\n",
    "    print(\"Bye\")"
   ]
  },
  {
   "cell_type": "markdown",
   "metadata": {},
   "source": [
    "7) Write a program to display the last digit of a number.\n"
   ]
  },
  {
   "cell_type": "code",
   "execution_count": 4,
   "metadata": {},
   "outputs": [
    {
     "name": "stdin",
     "output_type": "stream",
     "text": [
      "Write a number:  1234\n"
     ]
    },
    {
     "name": "stdout",
     "output_type": "stream",
     "text": [
      "['1', '2', '3', '4']\n",
      "The last digit of your given number is 4\n"
     ]
    }
   ],
   "source": [
    "#Type your code here\n",
    "num = (input(\"Write a number: \"))\n",
    "list1 = list(num)\n",
    "length = len(list1)\n",
    "Last_digit=(list1[length-1])\n",
    "print(f\"The last digit of your given number is {Last_digit}\")"
   ]
  },
  {
   "cell_type": "markdown",
   "metadata": {},
   "source": [
    "9) Take values of length and breadth of a rectangle from user and print if it is square or rectangle."
   ]
  },
  {
   "cell_type": "code",
   "execution_count": 2,
   "metadata": {},
   "outputs": [
    {
     "name": "stdin",
     "output_type": "stream",
     "text": [
      "Enter the length of shape:  40\n",
      "Enter the breadth of shape:  30\n"
     ]
    },
    {
     "name": "stdout",
     "output_type": "stream",
     "text": [
      "It is a rectangular shape.\n"
     ]
    }
   ],
   "source": [
    "#Type your code here \n",
    "length = int(input(\"Enter the length of shape: \"))\n",
    "breadth = int(input(\"Enter the breadth of shape: \"))\n",
    "if length == breadth:\n",
    "    print(\"It is a square shape.\")\n",
    "else:\n",
    "    print(\"It is a rectangular shape.\")"
   ]
  },
  {
   "cell_type": "markdown",
   "metadata": {},
   "source": [
    "10) Take two int values from user and print greatest among them."
   ]
  },
  {
   "cell_type": "code",
   "execution_count": 51,
   "metadata": {},
   "outputs": [
    {
     "name": "stdin",
     "output_type": "stream",
     "text": [
      "Enter 1st Number:  23\n",
      "Enter 2nd Number:  23\n"
     ]
    },
    {
     "name": "stdout",
     "output_type": "stream",
     "text": [
      "Both numbers are equal.\n"
     ]
    }
   ],
   "source": [
    "# Type your code here\n",
    "num_1 = int(input(\"Enter 1st Number: \"))\n",
    "num_2 = int(input(\"Enter 2nd Number: \"))\n",
    "if num_1==num_2:\n",
    "    print(\"Both numbers are equal.\")\n",
    "elif num_1>num_2:\n",
    "    print(f\"{num_1} is greater than {num_2}\")\n",
    "else:\n",
    "    print(f\"{num_2} is greater than {num_1}\")"
   ]
  },
  {
   "cell_type": "markdown",
   "metadata": {},
   "source": [
    "11) A shop will give discount of 10% if the cost of purchased quantity is more than 1000.\n",
    "Ask user for quantity\n",
    "Suppose, one unit will cost 100.\n",
    "Judge and print total cost for user."
   ]
  },
  {
   "cell_type": "code",
   "execution_count": 13,
   "metadata": {},
   "outputs": [
    {
     "name": "stdin",
     "output_type": "stream",
     "text": [
      "What is the quantity you want to buy?  10001\n"
     ]
    },
    {
     "name": "stdout",
     "output_type": "stream",
     "text": [
      "Surprise! you got 10% discount\n",
      "your total bill was 1000100\n",
      "After discount you have to pay 900090.0\n"
     ]
    }
   ],
   "source": [
    "#Type your code here\n",
    "quantity = int(input(\"What is the quantity you want to buy? \"))\n",
    "one_cost = 100\n",
    "total_bill=one_cost*quantity\n",
    "dis_bill = total_bill-(total_bill*0.1)\n",
    "if quantity>1000:\n",
    "    print(\"Surprise! you got 10% discount\")\n",
    "    print(f\"your total bill was {total_bill}\")\n",
    "    print(f\"After discount you have to pay {dis_bill}\")\n",
    "else:\n",
    "    print(f\"you have to pay {total_bill}\")\n",
    "    "
   ]
  },
  {
   "cell_type": "markdown",
   "metadata": {},
   "source": [
    "12) A school has following rules for grading system:\n",
    "\n",
    "a. Below 25 - F\n",
    "\n",
    "b. 25 to 45 - E\n",
    "\n",
    "c. 45 to 50 - D\n",
    "\n",
    "d. 50 to 60 - C\n",
    "\n",
    "e. 60 to 80 - B\n",
    "\n",
    "f. Above 80 - A\n",
    "\n",
    "Ask user to enter marks and print the corresponding grade."
   ]
  },
  {
   "cell_type": "code",
   "execution_count": 15,
   "metadata": {},
   "outputs": [
    {
     "name": "stdin",
     "output_type": "stream",
     "text": [
      "What are your marks?  45\n"
     ]
    },
    {
     "name": "stdout",
     "output_type": "stream",
     "text": [
      "you have scored D grade\n"
     ]
    }
   ],
   "source": [
    "#Type your code here\n",
    "marks = int(input(\"What are your marks? \"))\n",
    "if marks>=80:\n",
    "    print (\"you have scored A grade\")\n",
    "elif marks>=60:\n",
    "    print(\"you have scored B grade\")\n",
    "elif marks>=50:\n",
    "    print(\"you have scored C grade\")\n",
    "elif marks>=45:\n",
    "    print(\"you have scored D grade\")\n",
    "elif marks>=25:\n",
    "    print(\"you have scored E grade\")\n",
    "else:\n",
    "    print(\"you have scored F grade\")\n",
    "    "
   ]
  },
  {
   "cell_type": "markdown",
   "metadata": {},
   "source": [
    "14)A student will not be allowed to sit in exam if his/her attendence is less than 75%.\n",
    "\n",
    "Take following input from user\n",
    "\n",
    "- Number of classes held\n",
    "\n",
    "- Number of classes attended.\n",
    "\n",
    "And print\n",
    "\n",
    "- percentage of class attended\n",
    "\n",
    "- Is student is allowed to sit in exam or not.\n"
   ]
  },
  {
   "cell_type": "code",
   "execution_count": 20,
   "metadata": {},
   "outputs": [
    {
     "name": "stdin",
     "output_type": "stream",
     "text": [
      "Write the number of Total classes held in this course.  45\n",
      "How many classes you have taken of this course.  40\n"
     ]
    },
    {
     "name": "stdout",
     "output_type": "stream",
     "text": [
      "your class attendence percentage is 89.0\n",
      "congratulation! you are allowed to sit in exam.\n"
     ]
    }
   ],
   "source": [
    "#Type your code here\n",
    "total_classes=int(input(\"Write the number of Total classes held in this course. \"))\n",
    "taken_classes=int(input(\"How many classes you have taken of this course. \"))\n",
    "percentage=round((taken_classes/total_classes)*100,0)\n",
    "print(f\"your class attendence percentage is {percentage}\")\n",
    "if percentage>=75:\n",
    "    print(\"congratulation! you are allowed to sit in exam.\")\n",
    "else:\n",
    "    print(\"sorry, you are not allowed to sit in exams\")"
   ]
  },
  {
   "cell_type": "markdown",
   "metadata": {},
   "source": [
    "15) Modify the above question to allow student to sit if he/she has medical cause. Ask user if he/she has medical cause or not ( 'Y' or 'N' ) and print accordingly."
   ]
  },
  {
   "cell_type": "code",
   "execution_count": 41,
   "metadata": {},
   "outputs": [
    {
     "name": "stdin",
     "output_type": "stream",
     "text": [
      "Write the number of Total classes held in this course.  100\n",
      "How many classes you have taken of this course.  72\n"
     ]
    },
    {
     "name": "stdout",
     "output_type": "stream",
     "text": [
      "your class attendence percentage is 72.0\n"
     ]
    },
    {
     "name": "stdin",
     "output_type": "stream",
     "text": [
      "Do you have a medical cause?('Y' or 'N') Y\n"
     ]
    },
    {
     "name": "stdout",
     "output_type": "stream",
     "text": [
      "you are allowed to sit because of medical cause\n"
     ]
    }
   ],
   "source": [
    "#Type your code here\n",
    "total_classes=int(input(\"Write the number of Total classes held in this course. \"))\n",
    "taken_classes=int(input(\"How many classes you have taken of this course. \"))\n",
    "percentage=round((taken_classes/total_classes)*100,0)\n",
    "print(f\"your class attendence percentage is {percentage}\")\n",
    "\n",
    "if percentage>=75:\n",
    "    print(\"congratulation! you are allowed to sit in exam.\")\n",
    "else:\n",
    "    medical_condition=input(\"Do you have a medical cause?('Y' or 'N')\")\n",
    "    if medical_condition==\"Y\":\n",
    "        print(\"you are allowed to sit because of medical cause.\")\n",
    "    else:\n",
    "        print(\"sorry, you are not allowed to sit in exams\")"
   ]
  },
  {
   "cell_type": "markdown",
   "metadata": {},
   "source": [
    "16) Write a program to check if a year is leap year or not.\n",
    "\n",
    "If a year is divisible by 4 then it is leap year but if the year is century year like 2000, 1900, 2100 then it must be divisible by 400."
   ]
  },
  {
   "cell_type": "code",
   "execution_count": 36,
   "metadata": {},
   "outputs": [
    {
     "name": "stdin",
     "output_type": "stream",
     "text": [
      "which year do you want to check? 2010\n"
     ]
    },
    {
     "name": "stdout",
     "output_type": "stream",
     "text": [
      "Not a leap year\n"
     ]
    }
   ],
   "source": [
    "#Type your code here\n",
    "year = int(input(\"which year do you want to check?\"))\n",
    "if year % 4 ==0:\n",
    "    if year % 100 == 0:\n",
    "        if year % 400 == 0:\n",
    "            print(\"It's a leap year\")\n",
    "        else:\n",
    "            print(\"Not a leap year\")\n",
    "    else:\n",
    "        print(\"It's a leap year\")\n",
    "else:\n",
    "    print(\"Not a leap year\")\n"
   ]
  },
  {
   "cell_type": "markdown",
   "metadata": {},
   "source": [
    "17) Ask user to enter age, gender ( M or F ), marital status ( Y or N ) and then using following rules print their place of service.\n",
    "\n",
    "if employee is female, then she will work only in urban areas.\n",
    "\n",
    "if employee is a male and age is in between 20 to 40 then he may work in anywhere\n",
    "\n",
    "if employee is male and age is in between 40 t0 60 then he will work in urban areas only.\n",
    "\n",
    "And any other input of age should print \"ERROR\""
   ]
  },
  {
   "cell_type": "code",
   "execution_count": 46,
   "metadata": {},
   "outputs": [
    {
     "name": "stdin",
     "output_type": "stream",
     "text": [
      "What is your age?  23\n",
      "What is your Gender (M or F)?  m\n",
      "Are you Married (Y or N)?  n\n"
     ]
    },
    {
     "name": "stdout",
     "output_type": "stream",
     "text": [
      "ERROR\n"
     ]
    }
   ],
   "source": [
    "#Type your code here\n",
    "age = int(input(\"What is your age? \"))\n",
    "gender = input(\"What is your Gender (M or F)? \")\n",
    "marital_status=input(\"Are you Married (Y or N)? \")\n",
    "if gender == \"F\":\n",
    "    print(\"You have to work only in Urban Areas.\")\n",
    "elif gender == \"M\" and age >= 40:\n",
    "    print (\"You have to work in Urban Areas only.\")\n",
    "elif gender == \"M\" and age >=20:\n",
    "    print (\"You can work anywhere\")\n",
    "else:\n",
    "    print(\"ERROR\")"
   ]
  },
  {
   "cell_type": "markdown",
   "metadata": {},
   "source": [
    "6) Write a program to calculate the electricity bill (accept number of unit from user) according to the following criteria :\n",
    "     Unit                                                     Price  \n",
    "uptp 100 units                                             no charge\n",
    "Next 200 units                                              Rs 5 per unit\n",
    "After 200 units                                             Rs 10 per unit\n",
    "(For example if input unit is 350 than total bill amount is Rs.3500\n",
    "(For example if input unit is 97 than total bill amount is Rs.0\n",
    "(For example if input unit is 150 than total bill amount is Rs.750"
   ]
  },
  {
   "cell_type": "code",
   "execution_count": 49,
   "metadata": {},
   "outputs": [
    {
     "name": "stdin",
     "output_type": "stream",
     "text": [
      "What are the number of units you consume?  150\n"
     ]
    },
    {
     "name": "stdout",
     "output_type": "stream",
     "text": [
      "you have to pay 750 Rupees.\n"
     ]
    }
   ],
   "source": [
    "units = int(input(\"What are the number of units you consume? \"))\n",
    "if units <= 100:\n",
    "    print(\"You have to pay no charge.\")\n",
    "elif units <=200:\n",
    "    charge = units*5\n",
    "    print(f\"you have to pay {charge} Rupees.\")\n",
    "else:\n",
    "    charge = units * 10\n",
    "    print(f\"you have to pay {charge} Rupees.\")\n",
    "\n",
    "          "
   ]
  },
  {
   "cell_type": "markdown",
   "metadata": {},
   "source": [
    "13) Take input of age of 3 people by user and determine oldest and youngest among them."
   ]
  },
  {
   "cell_type": "code",
   "execution_count": 1,
   "metadata": {},
   "outputs": [
    {
     "name": "stdin",
     "output_type": "stream",
     "text": [
      "Enter Aslam's age:  45\n",
      "Enter Akram's age:  50\n",
      "Enter Amir's age: 55\n"
     ]
    },
    {
     "name": "stdout",
     "output_type": "stream",
     "text": [
      "Aamir is oldest among them\n",
      "Aslam is youngest among them\n"
     ]
    }
   ],
   "source": [
    "#Type your code here\n",
    "aslam_age = int(input(\"Enter Aslam's age: \"))\n",
    "akram_age = int(input(\"Enter Akram's age: \"))\n",
    "amir_age = int(input(\"Enter Amir's age:\"))\n",
    "if aslam_age > akram_age and aslam_age > amir_age:\n",
    "    print(\"Aslam is oldest among them\")\n",
    "elif akram_age > aslam_age and akram_age > amir_age:\n",
    "    print(\"Akram is oldest among them\")\n",
    "else:\n",
    "    print(\"Aamir is oldest among them\")\n",
    "if aslam_age < akram_age and aslam_age < amir_age:\n",
    "    print(\"Aslam is youngest among them\")\n",
    "elif akram_age < aslam_age and akram_age < amir_age:\n",
    "    print(\"Akram is youngest among them\")\n",
    "else:\n",
    "    print(\"Aamir is youngest among them\")\n",
    "        "
   ]
  },
  {
   "cell_type": "code",
   "execution_count": null,
   "metadata": {},
   "outputs": [],
   "source": []
  }
 ],
 "metadata": {
  "kernelspec": {
   "display_name": "Python 3 (ipykernel)",
   "language": "python",
   "name": "python3"
  },
  "language_info": {
   "codemirror_mode": {
    "name": "ipython",
    "version": 3
   },
   "file_extension": ".py",
   "mimetype": "text/x-python",
   "name": "python",
   "nbconvert_exporter": "python",
   "pygments_lexer": "ipython3",
   "version": "3.11.7"
  }
 },
 "nbformat": 4,
 "nbformat_minor": 4
}
